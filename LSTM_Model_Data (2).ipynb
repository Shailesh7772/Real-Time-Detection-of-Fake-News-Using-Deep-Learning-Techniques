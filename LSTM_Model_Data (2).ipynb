{
 "cells": [
  {
   "cell_type": "code",
   "execution_count": 326,
   "id": "3c191219",
   "metadata": {},
   "outputs": [],
   "source": [
    "import numpy as np\n",
    "import pandas as pd\n",
    "from collections import defaultdict\n",
    "import re"
   ]
  },
  {
   "cell_type": "code",
   "execution_count": 327,
   "id": "b56a7e51",
   "metadata": {},
   "outputs": [],
   "source": [
    "df= pd.read_csv(r\"C:\\Users\\KIIT0\\OneDrive\\Desktop\\data.csv\")"
   ]
  },
  {
   "cell_type": "code",
   "execution_count": 328,
   "id": "52a0afef",
   "metadata": {},
   "outputs": [
    {
     "data": {
      "text/html": [
       "<div>\n",
       "<style scoped>\n",
       "    .dataframe tbody tr th:only-of-type {\n",
       "        vertical-align: middle;\n",
       "    }\n",
       "\n",
       "    .dataframe tbody tr th {\n",
       "        vertical-align: top;\n",
       "    }\n",
       "\n",
       "    .dataframe thead th {\n",
       "        text-align: right;\n",
       "    }\n",
       "</style>\n",
       "<table border=\"1\" class=\"dataframe\">\n",
       "  <thead>\n",
       "    <tr style=\"text-align: right;\">\n",
       "      <th></th>\n",
       "      <th>URLs</th>\n",
       "      <th>Headline</th>\n",
       "      <th>Body</th>\n",
       "      <th>Label</th>\n",
       "    </tr>\n",
       "  </thead>\n",
       "  <tbody>\n",
       "    <tr>\n",
       "      <th>0</th>\n",
       "      <td>http://www.bbc.com/news/world-us-canada-414191...</td>\n",
       "      <td>Four ways Bob Corker skewered Donald Trump</td>\n",
       "      <td>Image copyright Getty Images\\nOn Sunday mornin...</td>\n",
       "      <td>1</td>\n",
       "    </tr>\n",
       "    <tr>\n",
       "      <th>1</th>\n",
       "      <td>https://www.reuters.com/article/us-filmfestiva...</td>\n",
       "      <td>Linklater's war veteran comedy speaks to moder...</td>\n",
       "      <td>LONDON (Reuters) - “Last Flag Flying”, a comed...</td>\n",
       "      <td>1</td>\n",
       "    </tr>\n",
       "    <tr>\n",
       "      <th>2</th>\n",
       "      <td>https://www.nytimes.com/2017/10/09/us/politics...</td>\n",
       "      <td>Trump’s Fight With Corker Jeopardizes His Legi...</td>\n",
       "      <td>The feud broke into public view last week when...</td>\n",
       "      <td>1</td>\n",
       "    </tr>\n",
       "    <tr>\n",
       "      <th>3</th>\n",
       "      <td>https://www.reuters.com/article/us-mexico-oil-...</td>\n",
       "      <td>Egypt's Cheiron wins tie-up with Pemex for Mex...</td>\n",
       "      <td>MEXICO CITY (Reuters) - Egypt’s Cheiron Holdin...</td>\n",
       "      <td>1</td>\n",
       "    </tr>\n",
       "    <tr>\n",
       "      <th>4</th>\n",
       "      <td>http://www.cnn.com/videos/cnnmoney/2017/10/08/...</td>\n",
       "      <td>Jason Aldean opens 'SNL' with Vegas tribute</td>\n",
       "      <td>Country singer Jason Aldean, who was performin...</td>\n",
       "      <td>1</td>\n",
       "    </tr>\n",
       "  </tbody>\n",
       "</table>\n",
       "</div>"
      ],
      "text/plain": [
       "                                                URLs  \\\n",
       "0  http://www.bbc.com/news/world-us-canada-414191...   \n",
       "1  https://www.reuters.com/article/us-filmfestiva...   \n",
       "2  https://www.nytimes.com/2017/10/09/us/politics...   \n",
       "3  https://www.reuters.com/article/us-mexico-oil-...   \n",
       "4  http://www.cnn.com/videos/cnnmoney/2017/10/08/...   \n",
       "\n",
       "                                            Headline  \\\n",
       "0         Four ways Bob Corker skewered Donald Trump   \n",
       "1  Linklater's war veteran comedy speaks to moder...   \n",
       "2  Trump’s Fight With Corker Jeopardizes His Legi...   \n",
       "3  Egypt's Cheiron wins tie-up with Pemex for Mex...   \n",
       "4        Jason Aldean opens 'SNL' with Vegas tribute   \n",
       "\n",
       "                                                Body  Label  \n",
       "0  Image copyright Getty Images\\nOn Sunday mornin...      1  \n",
       "1  LONDON (Reuters) - “Last Flag Flying”, a comed...      1  \n",
       "2  The feud broke into public view last week when...      1  \n",
       "3  MEXICO CITY (Reuters) - Egypt’s Cheiron Holdin...      1  \n",
       "4  Country singer Jason Aldean, who was performin...      1  "
      ]
     },
     "execution_count": 328,
     "metadata": {},
     "output_type": "execute_result"
    }
   ],
   "source": [
    "df.head()"
   ]
  },
  {
   "cell_type": "code",
   "execution_count": 329,
   "id": "68892efb",
   "metadata": {},
   "outputs": [],
   "source": [
    "df=df.drop(['URLs'],axis=1)"
   ]
  },
  {
   "cell_type": "code",
   "execution_count": 330,
   "id": "2ebac702",
   "metadata": {},
   "outputs": [
    {
     "data": {
      "text/html": [
       "<div>\n",
       "<style scoped>\n",
       "    .dataframe tbody tr th:only-of-type {\n",
       "        vertical-align: middle;\n",
       "    }\n",
       "\n",
       "    .dataframe tbody tr th {\n",
       "        vertical-align: top;\n",
       "    }\n",
       "\n",
       "    .dataframe thead th {\n",
       "        text-align: right;\n",
       "    }\n",
       "</style>\n",
       "<table border=\"1\" class=\"dataframe\">\n",
       "  <thead>\n",
       "    <tr style=\"text-align: right;\">\n",
       "      <th></th>\n",
       "      <th>Headline</th>\n",
       "      <th>Body</th>\n",
       "      <th>Label</th>\n",
       "    </tr>\n",
       "  </thead>\n",
       "  <tbody>\n",
       "    <tr>\n",
       "      <th>0</th>\n",
       "      <td>Four ways Bob Corker skewered Donald Trump</td>\n",
       "      <td>Image copyright Getty Images\\nOn Sunday mornin...</td>\n",
       "      <td>1</td>\n",
       "    </tr>\n",
       "    <tr>\n",
       "      <th>1</th>\n",
       "      <td>Linklater's war veteran comedy speaks to moder...</td>\n",
       "      <td>LONDON (Reuters) - “Last Flag Flying”, a comed...</td>\n",
       "      <td>1</td>\n",
       "    </tr>\n",
       "    <tr>\n",
       "      <th>2</th>\n",
       "      <td>Trump’s Fight With Corker Jeopardizes His Legi...</td>\n",
       "      <td>The feud broke into public view last week when...</td>\n",
       "      <td>1</td>\n",
       "    </tr>\n",
       "    <tr>\n",
       "      <th>3</th>\n",
       "      <td>Egypt's Cheiron wins tie-up with Pemex for Mex...</td>\n",
       "      <td>MEXICO CITY (Reuters) - Egypt’s Cheiron Holdin...</td>\n",
       "      <td>1</td>\n",
       "    </tr>\n",
       "    <tr>\n",
       "      <th>4</th>\n",
       "      <td>Jason Aldean opens 'SNL' with Vegas tribute</td>\n",
       "      <td>Country singer Jason Aldean, who was performin...</td>\n",
       "      <td>1</td>\n",
       "    </tr>\n",
       "  </tbody>\n",
       "</table>\n",
       "</div>"
      ],
      "text/plain": [
       "                                            Headline  \\\n",
       "0         Four ways Bob Corker skewered Donald Trump   \n",
       "1  Linklater's war veteran comedy speaks to moder...   \n",
       "2  Trump’s Fight With Corker Jeopardizes His Legi...   \n",
       "3  Egypt's Cheiron wins tie-up with Pemex for Mex...   \n",
       "4        Jason Aldean opens 'SNL' with Vegas tribute   \n",
       "\n",
       "                                                Body  Label  \n",
       "0  Image copyright Getty Images\\nOn Sunday mornin...      1  \n",
       "1  LONDON (Reuters) - “Last Flag Flying”, a comed...      1  \n",
       "2  The feud broke into public view last week when...      1  \n",
       "3  MEXICO CITY (Reuters) - Egypt’s Cheiron Holdin...      1  \n",
       "4  Country singer Jason Aldean, who was performin...      1  "
      ]
     },
     "execution_count": 330,
     "metadata": {},
     "output_type": "execute_result"
    }
   ],
   "source": [
    "df.head()"
   ]
  },
  {
   "cell_type": "code",
   "execution_count": 331,
   "id": "103690e7",
   "metadata": {},
   "outputs": [
    {
     "data": {
      "text/plain": [
       "(4009, 3)"
      ]
     },
     "execution_count": 331,
     "metadata": {},
     "output_type": "execute_result"
    }
   ],
   "source": [
    "df.shape"
   ]
  },
  {
   "cell_type": "code",
   "execution_count": 332,
   "id": "a15d9b22",
   "metadata": {},
   "outputs": [],
   "source": [
    "df.to_csv('dataa.csv')"
   ]
  },
  {
   "cell_type": "code",
   "execution_count": 333,
   "id": "c6a5742d",
   "metadata": {},
   "outputs": [],
   "source": [
    "import pandas as pd\n",
    "import numpy as np\n",
    "import itertools\n",
    "import seaborn as sns\n",
    "import nltk, os, re, string\n",
    "from nltk.corpus import stopwords\n",
    "import string\n",
    "from nltk.stem import WordNetLemmatizer\n",
    "from sklearn.feature_extraction.text import CountVectorizer, TfidfVectorizer, HashingVectorizer\n",
    "from sklearn.model_selection import train_test_split\n",
    "from sklearn.linear_model import PassiveAggressiveClassifier,LogisticRegression\n",
    "from sklearn.naive_bayes import MultinomialNB,GaussianNB\n",
    "from sklearn import metrics\n",
    "import matplotlib.pyplot as plt\n",
    "from nltk.stem.porter import PorterStemmer\n",
    "from wordcloud import WordCloud,STOPWORDS\n",
    "from nltk.stem import WordNetLemmatizer\n",
    "from nltk.tokenize import word_tokenize,sent_tokenize\n",
    "from bs4 import BeautifulSoup\n",
    "import re,string,unicodedata\n",
    "from tensorflow.keras.preprocessing import text, sequence\n",
    "from nltk.tokenize.toktok import ToktokTokenizer\n",
    "from sklearn.metrics import classification_report,confusion_matrix,accuracy_score\n",
    "from sklearn.model_selection import train_test_split\n",
    "from string import punctuation\n",
    "from nltk import pos_tag\n",
    "from nltk.corpus import wordnet\n",
    "\n",
    "import os\n",
    "for dirname, _, filenames in os.walk('/kaggle/input'):\n",
    "    for filename in filenames:\n",
    "        print(os.path.join(dirname, filename))"
   ]
  },
  {
   "cell_type": "code",
   "execution_count": 334,
   "id": "d0fd9536",
   "metadata": {},
   "outputs": [
    {
     "data": {
      "text/html": [
       "<div>\n",
       "<style scoped>\n",
       "    .dataframe tbody tr th:only-of-type {\n",
       "        vertical-align: middle;\n",
       "    }\n",
       "\n",
       "    .dataframe tbody tr th {\n",
       "        vertical-align: top;\n",
       "    }\n",
       "\n",
       "    .dataframe thead th {\n",
       "        text-align: right;\n",
       "    }\n",
       "</style>\n",
       "<table border=\"1\" class=\"dataframe\">\n",
       "  <thead>\n",
       "    <tr style=\"text-align: right;\">\n",
       "      <th></th>\n",
       "      <th>Unnamed: 0</th>\n",
       "      <th>Headline</th>\n",
       "      <th>Body</th>\n",
       "      <th>Label</th>\n",
       "    </tr>\n",
       "  </thead>\n",
       "  <tbody>\n",
       "    <tr>\n",
       "      <th>360</th>\n",
       "      <td>360</td>\n",
       "      <td>Barcelona's African street traders swap crime ...</td>\n",
       "      <td>Senegalese migrants in Barcelona, Spain, hold ...</td>\n",
       "      <td>1</td>\n",
       "    </tr>\n",
       "    <tr>\n",
       "      <th>2731</th>\n",
       "      <td>2731</td>\n",
       "      <td>U.N. denies India singled out over slavery est...</td>\n",
       "      <td>NEW DELHI (Thomson Reuters Foundation) - The U...</td>\n",
       "      <td>1</td>\n",
       "    </tr>\n",
       "    <tr>\n",
       "      <th>769</th>\n",
       "      <td>769</td>\n",
       "      <td>Facebook and Twitter face a 'bully tax' in Bri...</td>\n",
       "      <td>Britain could hit Facebook and Twitter with a ...</td>\n",
       "      <td>1</td>\n",
       "    </tr>\n",
       "    <tr>\n",
       "      <th>1685</th>\n",
       "      <td>1685</td>\n",
       "      <td>Ryan Gosling, Guy On A Boat Give Dating Advice...</td>\n",
       "      <td>Ryan Gosling, Guy On A Boat Give Dating Advice...</td>\n",
       "      <td>0</td>\n",
       "    </tr>\n",
       "    <tr>\n",
       "      <th>2885</th>\n",
       "      <td>2885</td>\n",
       "      <td>Bipartisan Congress Put Jeff Sessions in His P...</td>\n",
       "      <td>By Rachel Blevins\\nWhile it is a rare occasion...</td>\n",
       "      <td>0</td>\n",
       "    </tr>\n",
       "  </tbody>\n",
       "</table>\n",
       "</div>"
      ],
      "text/plain": [
       "      Unnamed: 0                                           Headline  \\\n",
       "360          360  Barcelona's African street traders swap crime ...   \n",
       "2731        2731  U.N. denies India singled out over slavery est...   \n",
       "769          769  Facebook and Twitter face a 'bully tax' in Bri...   \n",
       "1685        1685  Ryan Gosling, Guy On A Boat Give Dating Advice...   \n",
       "2885        2885  Bipartisan Congress Put Jeff Sessions in His P...   \n",
       "\n",
       "                                                   Body  Label  \n",
       "360   Senegalese migrants in Barcelona, Spain, hold ...      1  \n",
       "2731  NEW DELHI (Thomson Reuters Foundation) - The U...      1  \n",
       "769   Britain could hit Facebook and Twitter with a ...      1  \n",
       "1685  Ryan Gosling, Guy On A Boat Give Dating Advice...      0  \n",
       "2885  By Rachel Blevins\\nWhile it is a rare occasion...      0  "
      ]
     },
     "execution_count": 334,
     "metadata": {},
     "output_type": "execute_result"
    }
   ],
   "source": [
    "df = pd.read_csv(r\"C:\\Users\\KIIT0\\Downloads\\dataa (1).xls\")\n",
    "df =df.reindex(np.random.permutation(df.index))\n",
    "df.head()"
   ]
  },
  {
   "cell_type": "code",
   "execution_count": 335,
   "id": "2cbb8553",
   "metadata": {},
   "outputs": [
    {
     "data": {
      "text/html": [
       "<div>\n",
       "<style scoped>\n",
       "    .dataframe tbody tr th:only-of-type {\n",
       "        vertical-align: middle;\n",
       "    }\n",
       "\n",
       "    .dataframe tbody tr th {\n",
       "        vertical-align: top;\n",
       "    }\n",
       "\n",
       "    .dataframe thead th {\n",
       "        text-align: right;\n",
       "    }\n",
       "</style>\n",
       "<table border=\"1\" class=\"dataframe\">\n",
       "  <thead>\n",
       "    <tr style=\"text-align: right;\">\n",
       "      <th></th>\n",
       "      <th>Headline</th>\n",
       "      <th>Body</th>\n",
       "      <th>Label</th>\n",
       "    </tr>\n",
       "  </thead>\n",
       "  <tbody>\n",
       "    <tr>\n",
       "      <th>360</th>\n",
       "      <td>Barcelona's African street traders swap crime ...</td>\n",
       "      <td>Senegalese migrants in Barcelona, Spain, hold ...</td>\n",
       "      <td>1</td>\n",
       "    </tr>\n",
       "    <tr>\n",
       "      <th>2731</th>\n",
       "      <td>U.N. denies India singled out over slavery est...</td>\n",
       "      <td>NEW DELHI (Thomson Reuters Foundation) - The U...</td>\n",
       "      <td>1</td>\n",
       "    </tr>\n",
       "    <tr>\n",
       "      <th>769</th>\n",
       "      <td>Facebook and Twitter face a 'bully tax' in Bri...</td>\n",
       "      <td>Britain could hit Facebook and Twitter with a ...</td>\n",
       "      <td>1</td>\n",
       "    </tr>\n",
       "    <tr>\n",
       "      <th>1685</th>\n",
       "      <td>Ryan Gosling, Guy On A Boat Give Dating Advice...</td>\n",
       "      <td>Ryan Gosling, Guy On A Boat Give Dating Advice...</td>\n",
       "      <td>0</td>\n",
       "    </tr>\n",
       "    <tr>\n",
       "      <th>2885</th>\n",
       "      <td>Bipartisan Congress Put Jeff Sessions in His P...</td>\n",
       "      <td>By Rachel Blevins\\nWhile it is a rare occasion...</td>\n",
       "      <td>0</td>\n",
       "    </tr>\n",
       "  </tbody>\n",
       "</table>\n",
       "</div>"
      ],
      "text/plain": [
       "                                               Headline  \\\n",
       "360   Barcelona's African street traders swap crime ...   \n",
       "2731  U.N. denies India singled out over slavery est...   \n",
       "769   Facebook and Twitter face a 'bully tax' in Bri...   \n",
       "1685  Ryan Gosling, Guy On A Boat Give Dating Advice...   \n",
       "2885  Bipartisan Congress Put Jeff Sessions in His P...   \n",
       "\n",
       "                                                   Body  Label  \n",
       "360   Senegalese migrants in Barcelona, Spain, hold ...      1  \n",
       "2731  NEW DELHI (Thomson Reuters Foundation) - The U...      1  \n",
       "769   Britain could hit Facebook and Twitter with a ...      1  \n",
       "1685  Ryan Gosling, Guy On A Boat Give Dating Advice...      0  \n",
       "2885  By Rachel Blevins\\nWhile it is a rare occasion...      0  "
      ]
     },
     "execution_count": 335,
     "metadata": {},
     "output_type": "execute_result"
    }
   ],
   "source": [
    "df.drop(['Unnamed: 0'],axis=1, inplace=True)\n",
    "df.head()"
   ]
  },
  {
   "cell_type": "code",
   "execution_count": 336,
   "id": "47dd4204-5800-41e7-be8c-70bcd4e35ab3",
   "metadata": {},
   "outputs": [],
   "source": [
    "df=df.dropna()"
   ]
  },
  {
   "cell_type": "code",
   "execution_count": 337,
   "id": "63b206c8",
   "metadata": {},
   "outputs": [
    {
     "data": {
      "text/plain": [
       "Headline    0\n",
       "Body        0\n",
       "Label       0\n",
       "dtype: int64"
      ]
     },
     "execution_count": 337,
     "metadata": {},
     "output_type": "execute_result"
    }
   ],
   "source": [
    "df.isna().sum()"
   ]
  },
  {
   "cell_type": "code",
   "execution_count": 338,
   "id": "58c39e31",
   "metadata": {},
   "outputs": [
    {
     "data": {
      "text/html": [
       "<div>\n",
       "<style scoped>\n",
       "    .dataframe tbody tr th:only-of-type {\n",
       "        vertical-align: middle;\n",
       "    }\n",
       "\n",
       "    .dataframe tbody tr th {\n",
       "        vertical-align: top;\n",
       "    }\n",
       "\n",
       "    .dataframe thead th {\n",
       "        text-align: right;\n",
       "    }\n",
       "</style>\n",
       "<table border=\"1\" class=\"dataframe\">\n",
       "  <thead>\n",
       "    <tr style=\"text-align: right;\">\n",
       "      <th></th>\n",
       "      <th>Headline</th>\n",
       "      <th>Body</th>\n",
       "      <th>Label</th>\n",
       "    </tr>\n",
       "  </thead>\n",
       "  <tbody>\n",
       "    <tr>\n",
       "      <th>360</th>\n",
       "      <td>Barcelona's African street traders swap crime ...</td>\n",
       "      <td>Senegalese migrants in Barcelona, Spain, hold ...</td>\n",
       "      <td>1</td>\n",
       "    </tr>\n",
       "    <tr>\n",
       "      <th>2731</th>\n",
       "      <td>U.N. denies India singled out over slavery est...</td>\n",
       "      <td>NEW DELHI (Thomson Reuters Foundation) - The U...</td>\n",
       "      <td>1</td>\n",
       "    </tr>\n",
       "    <tr>\n",
       "      <th>769</th>\n",
       "      <td>Facebook and Twitter face a 'bully tax' in Bri...</td>\n",
       "      <td>Britain could hit Facebook and Twitter with a ...</td>\n",
       "      <td>1</td>\n",
       "    </tr>\n",
       "    <tr>\n",
       "      <th>1685</th>\n",
       "      <td>Ryan Gosling, Guy On A Boat Give Dating Advice...</td>\n",
       "      <td>Ryan Gosling, Guy On A Boat Give Dating Advice...</td>\n",
       "      <td>0</td>\n",
       "    </tr>\n",
       "    <tr>\n",
       "      <th>2885</th>\n",
       "      <td>Bipartisan Congress Put Jeff Sessions in His P...</td>\n",
       "      <td>By Rachel Blevins\\nWhile it is a rare occasion...</td>\n",
       "      <td>0</td>\n",
       "    </tr>\n",
       "  </tbody>\n",
       "</table>\n",
       "</div>"
      ],
      "text/plain": [
       "                                               Headline  \\\n",
       "360   Barcelona's African street traders swap crime ...   \n",
       "2731  U.N. denies India singled out over slavery est...   \n",
       "769   Facebook and Twitter face a 'bully tax' in Bri...   \n",
       "1685  Ryan Gosling, Guy On A Boat Give Dating Advice...   \n",
       "2885  Bipartisan Congress Put Jeff Sessions in His P...   \n",
       "\n",
       "                                                   Body  Label  \n",
       "360   Senegalese migrants in Barcelona, Spain, hold ...      1  \n",
       "2731  NEW DELHI (Thomson Reuters Foundation) - The U...      1  \n",
       "769   Britain could hit Facebook and Twitter with a ...      1  \n",
       "1685  Ryan Gosling, Guy On A Boat Give Dating Advice...      0  \n",
       "2885  By Rachel Blevins\\nWhile it is a rare occasion...      0  "
      ]
     },
     "execution_count": 338,
     "metadata": {},
     "output_type": "execute_result"
    }
   ],
   "source": [
    "df.head()"
   ]
  },
  {
   "cell_type": "code",
   "execution_count": 339,
   "id": "d915639d",
   "metadata": {},
   "outputs": [
    {
     "data": {
      "text/plain": [
       "Headline    0\n",
       "Body        0\n",
       "Label       0\n",
       "dtype: int64"
      ]
     },
     "execution_count": 339,
     "metadata": {},
     "output_type": "execute_result"
    }
   ],
   "source": [
    "df.isna().sum()"
   ]
  },
  {
   "cell_type": "code",
   "execution_count": 340,
   "id": "4179a11f",
   "metadata": {},
   "outputs": [
    {
     "data": {
      "text/plain": [
       "[(',', 1251),\n",
       " (':', 964),\n",
       " ('to', 716),\n",
       " ('’', 583),\n",
       " ('in', 507),\n",
       " ('the', 419),\n",
       " ('of', 407),\n",
       " (\"'s\", 372),\n",
       " ('for', 328),\n",
       " ('on', 277),\n",
       " ('The', 276),\n",
       " ('s', 275),\n",
       " ('-', 260),\n",
       " ('and', 258),\n",
       " (';', 242)]"
      ]
     },
     "execution_count": 340,
     "metadata": {},
     "output_type": "execute_result"
    }
   ],
   "source": [
    "df['nb_words'] = df.Headline.apply(lambda x: len(x.split()))\n",
    "df['nb_unique_words'] = df.Headline.apply(lambda x: len(set(x.split())))\n",
    "df['nb_char'] = df.Headline.apply(lambda x: len(x))\n",
    "df[\"nb_special\"] = df.apply(lambda p: sum( not q.isalpha() for q in p[\"Headline\"] ), axis=1)\n",
    "def punct(text):\n",
    "    return(len([w for w in text.split() if w in list(string.punctuation)]))\n",
    "df['nb_punct'] = df.Headline.apply(lambda x: punct(x))\n",
    "stopword = stopwords.words('english')\n",
    "def stop(text):\n",
    "    return(len([w for w in text.split() if w in stopword]))\n",
    "df['nb_stopwords'] = df.Headline.apply(lambda x: stop(x))\n",
    "\n",
    "def Headline(text):\n",
    "    return(len([w for w in text.split() if w.istitle()]))\n",
    "df['nb_Headline_case'] = df.Headline.apply(lambda x: Headline(x))\n",
    "def upper(text):\n",
    "    return(len([w for w in text.split() if w.isupper()]))\n",
    "df['nb_Headline_case'] = df.Headline.apply(lambda x: upper(x))\n",
    "\n",
    "token = nltk.word_tokenize(''.join(df.Headline))\n",
    "frequent = nltk.FreqDist(token)\n",
    "frequent.most_common(15)\n"
   ]
  },
  {
   "cell_type": "code",
   "execution_count": 341,
   "id": "18eb0dd6",
   "metadata": {},
   "outputs": [
    {
     "data": {
      "text/plain": [
       "[('’', 583),\n",
       " (\"'s\", 372),\n",
       " ('The', 276),\n",
       " ('To', 241),\n",
       " ('Trump', 224),\n",
       " ('‘', 222),\n",
       " ('A', 163),\n",
       " ('Vegas', 152),\n",
       " ('Week', 144),\n",
       " ('For', 138),\n",
       " ('In', 136),\n",
       " ('Is', 135),\n",
       " ('Of', 118),\n",
       " ('On', 103),\n",
       " ('Game', 93)]"
      ]
     },
     "execution_count": 341,
     "metadata": {},
     "output_type": "execute_result"
    }
   ],
   "source": [
    "for sym in string.punctuation:\n",
    "    del frequent[sym]\n",
    "for word in stopword:\n",
    "    del frequent[word]\n",
    "frequent.most_common(15)"
   ]
  },
  {
   "cell_type": "code",
   "execution_count": 342,
   "id": "e6170c16",
   "metadata": {},
   "outputs": [],
   "source": [
    "freq_words = list(dict(frequent.most_common()[:100]).keys())\n",
    "def freq(text):\n",
    "    return(len([w for w in text.split() if w in freq_words]))\n",
    "df['nb_freq_words'] = df.Headline.apply(lambda x: freq(x))"
   ]
  },
  {
   "cell_type": "code",
   "execution_count": 343,
   "id": "024833cb",
   "metadata": {},
   "outputs": [
    {
     "data": {
      "text/html": [
       "<div>\n",
       "<style scoped>\n",
       "    .dataframe tbody tr th:only-of-type {\n",
       "        vertical-align: middle;\n",
       "    }\n",
       "\n",
       "    .dataframe tbody tr th {\n",
       "        vertical-align: top;\n",
       "    }\n",
       "\n",
       "    .dataframe thead th {\n",
       "        text-align: right;\n",
       "    }\n",
       "</style>\n",
       "<table border=\"1\" class=\"dataframe\">\n",
       "  <thead>\n",
       "    <tr style=\"text-align: right;\">\n",
       "      <th></th>\n",
       "      <th>Headline</th>\n",
       "      <th>Body</th>\n",
       "      <th>Label</th>\n",
       "      <th>nb_words</th>\n",
       "      <th>nb_unique_words</th>\n",
       "      <th>nb_char</th>\n",
       "      <th>nb_special</th>\n",
       "      <th>nb_punct</th>\n",
       "      <th>nb_stopwords</th>\n",
       "      <th>nb_Headline_case</th>\n",
       "      <th>nb_freq_words</th>\n",
       "    </tr>\n",
       "  </thead>\n",
       "  <tbody>\n",
       "    <tr>\n",
       "      <th>360</th>\n",
       "      <td>Barcelona's African street traders swap crime ...</td>\n",
       "      <td>Senegalese migrants in Barcelona, Spain, hold ...</td>\n",
       "      <td>1</td>\n",
       "      <td>8</td>\n",
       "      <td>8</td>\n",
       "      <td>55</td>\n",
       "      <td>8</td>\n",
       "      <td>0</td>\n",
       "      <td>1</td>\n",
       "      <td>0</td>\n",
       "      <td>0</td>\n",
       "    </tr>\n",
       "    <tr>\n",
       "      <th>2731</th>\n",
       "      <td>U.N. denies India singled out over slavery est...</td>\n",
       "      <td>NEW DELHI (Thomson Reuters Foundation) - The U...</td>\n",
       "      <td>1</td>\n",
       "      <td>8</td>\n",
       "      <td>8</td>\n",
       "      <td>52</td>\n",
       "      <td>9</td>\n",
       "      <td>0</td>\n",
       "      <td>2</td>\n",
       "      <td>1</td>\n",
       "      <td>0</td>\n",
       "    </tr>\n",
       "    <tr>\n",
       "      <th>769</th>\n",
       "      <td>Facebook and Twitter face a 'bully tax' in Bri...</td>\n",
       "      <td>Britain could hit Facebook and Twitter with a ...</td>\n",
       "      <td>1</td>\n",
       "      <td>9</td>\n",
       "      <td>9</td>\n",
       "      <td>50</td>\n",
       "      <td>10</td>\n",
       "      <td>0</td>\n",
       "      <td>3</td>\n",
       "      <td>0</td>\n",
       "      <td>0</td>\n",
       "    </tr>\n",
       "    <tr>\n",
       "      <th>1685</th>\n",
       "      <td>Ryan Gosling, Guy On A Boat Give Dating Advice...</td>\n",
       "      <td>Ryan Gosling, Guy On A Boat Give Dating Advice...</td>\n",
       "      <td>0</td>\n",
       "      <td>11</td>\n",
       "      <td>10</td>\n",
       "      <td>53</td>\n",
       "      <td>11</td>\n",
       "      <td>0</td>\n",
       "      <td>0</td>\n",
       "      <td>2</td>\n",
       "      <td>3</td>\n",
       "    </tr>\n",
       "    <tr>\n",
       "      <th>2885</th>\n",
       "      <td>Bipartisan Congress Put Jeff Sessions in His P...</td>\n",
       "      <td>By Rachel Blevins\\nWhile it is a rare occasion...</td>\n",
       "      <td>0</td>\n",
       "      <td>16</td>\n",
       "      <td>15</td>\n",
       "      <td>101</td>\n",
       "      <td>16</td>\n",
       "      <td>0</td>\n",
       "      <td>2</td>\n",
       "      <td>0</td>\n",
       "      <td>2</td>\n",
       "    </tr>\n",
       "  </tbody>\n",
       "</table>\n",
       "</div>"
      ],
      "text/plain": [
       "                                               Headline  \\\n",
       "360   Barcelona's African street traders swap crime ...   \n",
       "2731  U.N. denies India singled out over slavery est...   \n",
       "769   Facebook and Twitter face a 'bully tax' in Bri...   \n",
       "1685  Ryan Gosling, Guy On A Boat Give Dating Advice...   \n",
       "2885  Bipartisan Congress Put Jeff Sessions in His P...   \n",
       "\n",
       "                                                   Body  Label  nb_words  \\\n",
       "360   Senegalese migrants in Barcelona, Spain, hold ...      1         8   \n",
       "2731  NEW DELHI (Thomson Reuters Foundation) - The U...      1         8   \n",
       "769   Britain could hit Facebook and Twitter with a ...      1         9   \n",
       "1685  Ryan Gosling, Guy On A Boat Give Dating Advice...      0        11   \n",
       "2885  By Rachel Blevins\\nWhile it is a rare occasion...      0        16   \n",
       "\n",
       "      nb_unique_words  nb_char  nb_special  nb_punct  nb_stopwords  \\\n",
       "360                 8       55           8         0             1   \n",
       "2731                8       52           9         0             2   \n",
       "769                 9       50          10         0             3   \n",
       "1685               10       53          11         0             0   \n",
       "2885               15      101          16         0             2   \n",
       "\n",
       "      nb_Headline_case  nb_freq_words  \n",
       "360                  0              0  \n",
       "2731                 1              0  \n",
       "769                  0              0  \n",
       "1685                 2              3  \n",
       "2885                 0              2  "
      ]
     },
     "execution_count": 343,
     "metadata": {},
     "output_type": "execute_result"
    }
   ],
   "source": [
    "df.head()"
   ]
  },
  {
   "cell_type": "code",
   "execution_count": 344,
   "id": "c8697dd7",
   "metadata": {},
   "outputs": [],
   "source": [
    "freq_words = list(dict(frequent.most_common()[:100]).keys())\n",
    "def freq(text):\n",
    "    return(len([w for w in text.split() if w in freq_words])/len(text.split()))\n",
    "df['avg_freq_word']= df.Headline.apply(lambda x: freq(x))"
   ]
  },
  {
   "cell_type": "code",
   "execution_count": 345,
   "id": "0aaa25dd",
   "metadata": {},
   "outputs": [
    {
     "data": {
      "text/html": [
       "<div>\n",
       "<style scoped>\n",
       "    .dataframe tbody tr th:only-of-type {\n",
       "        vertical-align: middle;\n",
       "    }\n",
       "\n",
       "    .dataframe tbody tr th {\n",
       "        vertical-align: top;\n",
       "    }\n",
       "\n",
       "    .dataframe thead th {\n",
       "        text-align: right;\n",
       "    }\n",
       "</style>\n",
       "<table border=\"1\" class=\"dataframe\">\n",
       "  <thead>\n",
       "    <tr style=\"text-align: right;\">\n",
       "      <th></th>\n",
       "      <th>Headline</th>\n",
       "      <th>Body</th>\n",
       "      <th>Label</th>\n",
       "      <th>nb_words</th>\n",
       "      <th>nb_unique_words</th>\n",
       "      <th>nb_char</th>\n",
       "      <th>nb_special</th>\n",
       "      <th>nb_punct</th>\n",
       "      <th>nb_stopwords</th>\n",
       "      <th>nb_Headline_case</th>\n",
       "      <th>nb_freq_words</th>\n",
       "      <th>avg_freq_word</th>\n",
       "    </tr>\n",
       "  </thead>\n",
       "  <tbody>\n",
       "    <tr>\n",
       "      <th>360</th>\n",
       "      <td>Barcelona's African street traders swap crime ...</td>\n",
       "      <td>Senegalese migrants in Barcelona, Spain, hold ...</td>\n",
       "      <td>1</td>\n",
       "      <td>8</td>\n",
       "      <td>8</td>\n",
       "      <td>55</td>\n",
       "      <td>8</td>\n",
       "      <td>0</td>\n",
       "      <td>1</td>\n",
       "      <td>0</td>\n",
       "      <td>0</td>\n",
       "      <td>0.000000</td>\n",
       "    </tr>\n",
       "    <tr>\n",
       "      <th>2731</th>\n",
       "      <td>U.N. denies India singled out over slavery est...</td>\n",
       "      <td>NEW DELHI (Thomson Reuters Foundation) - The U...</td>\n",
       "      <td>1</td>\n",
       "      <td>8</td>\n",
       "      <td>8</td>\n",
       "      <td>52</td>\n",
       "      <td>9</td>\n",
       "      <td>0</td>\n",
       "      <td>2</td>\n",
       "      <td>1</td>\n",
       "      <td>0</td>\n",
       "      <td>0.000000</td>\n",
       "    </tr>\n",
       "    <tr>\n",
       "      <th>769</th>\n",
       "      <td>Facebook and Twitter face a 'bully tax' in Bri...</td>\n",
       "      <td>Britain could hit Facebook and Twitter with a ...</td>\n",
       "      <td>1</td>\n",
       "      <td>9</td>\n",
       "      <td>9</td>\n",
       "      <td>50</td>\n",
       "      <td>10</td>\n",
       "      <td>0</td>\n",
       "      <td>3</td>\n",
       "      <td>0</td>\n",
       "      <td>0</td>\n",
       "      <td>0.000000</td>\n",
       "    </tr>\n",
       "    <tr>\n",
       "      <th>1685</th>\n",
       "      <td>Ryan Gosling, Guy On A Boat Give Dating Advice...</td>\n",
       "      <td>Ryan Gosling, Guy On A Boat Give Dating Advice...</td>\n",
       "      <td>0</td>\n",
       "      <td>11</td>\n",
       "      <td>10</td>\n",
       "      <td>53</td>\n",
       "      <td>11</td>\n",
       "      <td>0</td>\n",
       "      <td>0</td>\n",
       "      <td>2</td>\n",
       "      <td>3</td>\n",
       "      <td>0.272727</td>\n",
       "    </tr>\n",
       "    <tr>\n",
       "      <th>2885</th>\n",
       "      <td>Bipartisan Congress Put Jeff Sessions in His P...</td>\n",
       "      <td>By Rachel Blevins\\nWhile it is a rare occasion...</td>\n",
       "      <td>0</td>\n",
       "      <td>16</td>\n",
       "      <td>15</td>\n",
       "      <td>101</td>\n",
       "      <td>16</td>\n",
       "      <td>0</td>\n",
       "      <td>2</td>\n",
       "      <td>0</td>\n",
       "      <td>2</td>\n",
       "      <td>0.125000</td>\n",
       "    </tr>\n",
       "  </tbody>\n",
       "</table>\n",
       "</div>"
      ],
      "text/plain": [
       "                                               Headline  \\\n",
       "360   Barcelona's African street traders swap crime ...   \n",
       "2731  U.N. denies India singled out over slavery est...   \n",
       "769   Facebook and Twitter face a 'bully tax' in Bri...   \n",
       "1685  Ryan Gosling, Guy On A Boat Give Dating Advice...   \n",
       "2885  Bipartisan Congress Put Jeff Sessions in His P...   \n",
       "\n",
       "                                                   Body  Label  nb_words  \\\n",
       "360   Senegalese migrants in Barcelona, Spain, hold ...      1         8   \n",
       "2731  NEW DELHI (Thomson Reuters Foundation) - The U...      1         8   \n",
       "769   Britain could hit Facebook and Twitter with a ...      1         9   \n",
       "1685  Ryan Gosling, Guy On A Boat Give Dating Advice...      0        11   \n",
       "2885  By Rachel Blevins\\nWhile it is a rare occasion...      0        16   \n",
       "\n",
       "      nb_unique_words  nb_char  nb_special  nb_punct  nb_stopwords  \\\n",
       "360                 8       55           8         0             1   \n",
       "2731                8       52           9         0             2   \n",
       "769                 9       50          10         0             3   \n",
       "1685               10       53          11         0             0   \n",
       "2885               15      101          16         0             2   \n",
       "\n",
       "      nb_Headline_case  nb_freq_words  avg_freq_word  \n",
       "360                  0              0       0.000000  \n",
       "2731                 1              0       0.000000  \n",
       "769                  0              0       0.000000  \n",
       "1685                 2              3       0.272727  \n",
       "2885                 0              2       0.125000  "
      ]
     },
     "execution_count": 345,
     "metadata": {},
     "output_type": "execute_result"
    }
   ],
   "source": [
    "df.head()"
   ]
  },
  {
   "cell_type": "code",
   "execution_count": 346,
   "id": "1990324c",
   "metadata": {},
   "outputs": [
    {
     "data": {
      "text/plain": [
       "<Axes: xlabel='Label', ylabel='count'>"
      ]
     },
     "execution_count": 346,
     "metadata": {},
     "output_type": "execute_result"
    }
   ],
   "source": [
    "sns.set_style(\"dark\")\n",
    "sns.countplot(x='Label', data=df)"
   ]
  },
  {
   "cell_type": "code",
   "execution_count": 347,
   "id": "767abb2c",
   "metadata": {},
   "outputs": [],
   "source": [
    "import matplotlib.pyplot as plt\n",
    "import seaborn as sns\n",
    "\n",
    "%matplotlib inline"
   ]
  },
  {
   "cell_type": "code",
   "execution_count": 348,
   "id": "379e4cae",
   "metadata": {},
   "outputs": [],
   "source": [
    "from nltk.corpus import stopwords\n",
    "stop = set(stopwords.words('english'))\n",
    "punctuation = list(string.punctuation)\n",
    "stop.update(punctuation)\n",
    "\n",
    "def remove_stopwords(text):\n",
    "    final_text = []\n",
    "    for i in text.split():\n",
    "        if i.strip().lower() not in stop:\n",
    "            final_text.append(i.strip())\n",
    "    return \" \".join(final_text)\n",
    "\n",
    "df['Headline']=df['Headline'].apply(remove_stopwords)"
   ]
  },
  {
   "cell_type": "code",
   "execution_count": 349,
   "id": "899b2abf",
   "metadata": {},
   "outputs": [
    {
     "data": {
      "image/png": "[encoded data removed]",
      "text/plain": [
       "<Figure size 640x480 with 1 Axes>"
      ]
     },
     "metadata": {},
     "output_type": "display_data"
    },
    {
     "data": {
      "text/plain": [
       "<Figure size 2000x2000 with 0 Axes>"
      ]
     },
     "metadata": {},
     "output_type": "display_data"
    }
   ],
   "source": [
    "plt.figure(figsize = (20,20)) # Text that is Fake News Headlines\n",
    "wc = WordCloud(max_words = 1000 , width = 1600 , height = 800).generate(\" \".join(df.Headline))\n",
    "plt.show()"
   ]
  },
  {
   "cell_type": "code",
   "execution_count": 350,
   "id": "8a0593fe",
   "metadata": {},
   "outputs": [
    {
     "name": "stderr",
     "output_type": "stream",
     "text": [
      "[nltk_data] Downloading package stopwords to\n",
      "[nltk_data]     C:\\Users\\KIIT0\\AppData\\Roaming\\nltk_data...\n",
      "[nltk_data]   Package stopwords is already up-to-date!\n"
     ]
    },
    {
     "data": {
      "text/plain": [
       "True"
      ]
     },
     "execution_count": 350,
     "metadata": {},
     "output_type": "execute_result"
    }
   ],
   "source": [
    "import pandas as pd\n",
    "import numpy as np\n",
    "import itertools\n",
    "import seaborn as sns\n",
    "import nltk, re, string\n",
    "from string import punctuation\n",
    "from nltk.corpus import stopwords\n",
    "from sklearn import metrics\n",
    "import matplotlib.pyplot as plt\n",
    "from wordcloud import WordCloud,STOPWORDS\n",
    "from sklearn.metrics import classification_report,confusion_matrix,accuracy_score,roc_auc_score\n",
    "from sklearn.model_selection import train_test_split\n",
    "from tensorflow.keras.models import Model\n",
    "from tensorflow.keras.layers import Dense, Embedding, Input, LSTM, Bidirectional, GlobalMaxPool1D, Dropout\n",
    "from tensorflow.keras.preprocessing.text import Tokenizer\n",
    "from tensorflow.keras.preprocessing.sequence import pad_sequences\n",
    "nltk.download('stopwords')"
   ]
  },
  {
   "cell_type": "code",
   "execution_count": 351,
   "id": "80ca275f",
   "metadata": {},
   "outputs": [
    {
     "data": {
      "text/html": [
       "<div>\n",
       "<style scoped>\n",
       "    .dataframe tbody tr th:only-of-type {\n",
       "        vertical-align: middle;\n",
       "    }\n",
       "\n",
       "    .dataframe tbody tr th {\n",
       "        vertical-align: top;\n",
       "    }\n",
       "\n",
       "    .dataframe thead th {\n",
       "        text-align: right;\n",
       "    }\n",
       "</style>\n",
       "<table border=\"1\" class=\"dataframe\">\n",
       "  <thead>\n",
       "    <tr style=\"text-align: right;\">\n",
       "      <th></th>\n",
       "      <th>Unnamed: 0</th>\n",
       "      <th>Headline</th>\n",
       "      <th>Body</th>\n",
       "      <th>Label</th>\n",
       "    </tr>\n",
       "  </thead>\n",
       "  <tbody>\n",
       "    <tr>\n",
       "      <th>0</th>\n",
       "      <td>0</td>\n",
       "      <td>Four ways Bob Corker skewered Donald Trump</td>\n",
       "      <td>Image copyright Getty Images\\nOn Sunday mornin...</td>\n",
       "      <td>1</td>\n",
       "    </tr>\n",
       "    <tr>\n",
       "      <th>1</th>\n",
       "      <td>1</td>\n",
       "      <td>Linklater's war veteran comedy speaks to moder...</td>\n",
       "      <td>LONDON (Reuters) - “Last Flag Flying”, a comed...</td>\n",
       "      <td>1</td>\n",
       "    </tr>\n",
       "    <tr>\n",
       "      <th>2</th>\n",
       "      <td>2</td>\n",
       "      <td>Trump’s Fight With Corker Jeopardizes His Legi...</td>\n",
       "      <td>The feud broke into public view last week when...</td>\n",
       "      <td>1</td>\n",
       "    </tr>\n",
       "    <tr>\n",
       "      <th>3</th>\n",
       "      <td>3</td>\n",
       "      <td>Egypt's Cheiron wins tie-up with Pemex for Mex...</td>\n",
       "      <td>MEXICO CITY (Reuters) - Egypt’s Cheiron Holdin...</td>\n",
       "      <td>1</td>\n",
       "    </tr>\n",
       "    <tr>\n",
       "      <th>4</th>\n",
       "      <td>4</td>\n",
       "      <td>Jason Aldean opens 'SNL' with Vegas tribute</td>\n",
       "      <td>Country singer Jason Aldean, who was performin...</td>\n",
       "      <td>1</td>\n",
       "    </tr>\n",
       "  </tbody>\n",
       "</table>\n",
       "</div>"
      ],
      "text/plain": [
       "   Unnamed: 0                                           Headline  \\\n",
       "0           0         Four ways Bob Corker skewered Donald Trump   \n",
       "1           1  Linklater's war veteran comedy speaks to moder...   \n",
       "2           2  Trump’s Fight With Corker Jeopardizes His Legi...   \n",
       "3           3  Egypt's Cheiron wins tie-up with Pemex for Mex...   \n",
       "4           4        Jason Aldean opens 'SNL' with Vegas tribute   \n",
       "\n",
       "                                                Body  Label  \n",
       "0  Image copyright Getty Images\\nOn Sunday mornin...      1  \n",
       "1  LONDON (Reuters) - “Last Flag Flying”, a comed...      1  \n",
       "2  The feud broke into public view last week when...      1  \n",
       "3  MEXICO CITY (Reuters) - Egypt’s Cheiron Holdin...      1  \n",
       "4  Country singer Jason Aldean, who was performin...      1  "
      ]
     },
     "execution_count": 351,
     "metadata": {},
     "output_type": "execute_result"
    }
   ],
   "source": [
    "df = pd.read_csv(r\"C:\\Users\\KIIT0\\Downloads\\dataa (1).xls\")\n",
    "\n",
    "df.head()"
   ]
  },
  {
   "cell_type": "code",
   "execution_count": 352,
   "id": "534d0e88",
   "metadata": {},
   "outputs": [],
   "source": [
    "def extract_txt(Body):\n",
    "    if isinstance(Body, str):  # Check if the value is a string\n",
    "        regex = re.search(r\"(?<=\\(Reuters\\)\\s\\-\\s).*\", Body)\n",
    "        if regex:\n",
    "            return regex.group(0)\n",
    "    return Body  # Return the original value if it's not a string or no match\n",
    "\n",
    "# Handle NaN values and apply the function\n",
    "df['Body'] = df['Body'].fillna('')  # Replace NaN with an empty string\n",
    "df['text_processed'] = df['Body'].apply(extract_txt)"
   ]
  },
  {
   "cell_type": "code",
   "execution_count": 353,
   "id": "605cd4b7-9589-4cd2-b7d5-437cf9a3a758",
   "metadata": {},
   "outputs": [],
   "source": [
    "df.columns = df.columns.str.strip()\n"
   ]
  },
  {
   "cell_type": "code",
   "execution_count": 354,
   "id": "4e7fb7dc-7851-44a4-9fda-f02f4ebbf850",
   "metadata": {},
   "outputs": [],
   "source": [
    "if 'Unnamed: 0' in df.columns:\n",
    "    df.drop(['Unnamed: 0'], axis=1, inplace=True)\n",
    "else:\n",
    "    print(\"Column 'Unnamed: 0' not found.\")\n"
   ]
  },
  {
   "cell_type": "code",
   "execution_count": 355,
   "id": "b7785122",
   "metadata": {},
   "outputs": [
    {
     "data": {
      "text/html": [
       "<div>\n",
       "<style scoped>\n",
       "    .dataframe tbody tr th:only-of-type {\n",
       "        vertical-align: middle;\n",
       "    }\n",
       "\n",
       "    .dataframe tbody tr th {\n",
       "        vertical-align: top;\n",
       "    }\n",
       "\n",
       "    .dataframe thead th {\n",
       "        text-align: right;\n",
       "    }\n",
       "</style>\n",
       "<table border=\"1\" class=\"dataframe\">\n",
       "  <thead>\n",
       "    <tr style=\"text-align: right;\">\n",
       "      <th></th>\n",
       "      <th>Headline</th>\n",
       "      <th>Body</th>\n",
       "      <th>Label</th>\n",
       "      <th>text_processed</th>\n",
       "    </tr>\n",
       "  </thead>\n",
       "  <tbody>\n",
       "    <tr>\n",
       "      <th>0</th>\n",
       "      <td>Four ways Bob Corker skewered Donald Trump</td>\n",
       "      <td>Image copyright Getty Images\\nOn Sunday mornin...</td>\n",
       "      <td>1</td>\n",
       "      <td>Image copyright Getty Images\\nOn Sunday mornin...</td>\n",
       "    </tr>\n",
       "    <tr>\n",
       "      <th>1</th>\n",
       "      <td>Linklater's war veteran comedy speaks to moder...</td>\n",
       "      <td>LONDON (Reuters) - “Last Flag Flying”, a comed...</td>\n",
       "      <td>1</td>\n",
       "      <td>“Last Flag Flying”, a comedy-drama about Vietn...</td>\n",
       "    </tr>\n",
       "    <tr>\n",
       "      <th>2</th>\n",
       "      <td>Trump’s Fight With Corker Jeopardizes His Legi...</td>\n",
       "      <td>The feud broke into public view last week when...</td>\n",
       "      <td>1</td>\n",
       "      <td>The feud broke into public view last week when...</td>\n",
       "    </tr>\n",
       "    <tr>\n",
       "      <th>3</th>\n",
       "      <td>Egypt's Cheiron wins tie-up with Pemex for Mex...</td>\n",
       "      <td>MEXICO CITY (Reuters) - Egypt’s Cheiron Holdin...</td>\n",
       "      <td>1</td>\n",
       "      <td>Egypt’s Cheiron Holdings Limited won the right...</td>\n",
       "    </tr>\n",
       "    <tr>\n",
       "      <th>4</th>\n",
       "      <td>Jason Aldean opens 'SNL' with Vegas tribute</td>\n",
       "      <td>Country singer Jason Aldean, who was performin...</td>\n",
       "      <td>1</td>\n",
       "      <td>Country singer Jason Aldean, who was performin...</td>\n",
       "    </tr>\n",
       "  </tbody>\n",
       "</table>\n",
       "</div>"
      ],
      "text/plain": [
       "                                            Headline  \\\n",
       "0         Four ways Bob Corker skewered Donald Trump   \n",
       "1  Linklater's war veteran comedy speaks to moder...   \n",
       "2  Trump’s Fight With Corker Jeopardizes His Legi...   \n",
       "3  Egypt's Cheiron wins tie-up with Pemex for Mex...   \n",
       "4        Jason Aldean opens 'SNL' with Vegas tribute   \n",
       "\n",
       "                                                Body  Label  \\\n",
       "0  Image copyright Getty Images\\nOn Sunday mornin...      1   \n",
       "1  LONDON (Reuters) - “Last Flag Flying”, a comed...      1   \n",
       "2  The feud broke into public view last week when...      1   \n",
       "3  MEXICO CITY (Reuters) - Egypt’s Cheiron Holdin...      1   \n",
       "4  Country singer Jason Aldean, who was performin...      1   \n",
       "\n",
       "                                      text_processed  \n",
       "0  Image copyright Getty Images\\nOn Sunday mornin...  \n",
       "1  “Last Flag Flying”, a comedy-drama about Vietn...  \n",
       "2  The feud broke into public view last week when...  \n",
       "3  Egypt’s Cheiron Holdings Limited won the right...  \n",
       "4  Country singer Jason Aldean, who was performin...  "
      ]
     },
     "execution_count": 355,
     "metadata": {},
     "output_type": "execute_result"
    }
   ],
   "source": [
    "df.drop(['Unnamed: 0'], axis=1, inplace=True, errors='ignore')\n",
    "df.head()\n"
   ]
  },
  {
   "cell_type": "code",
   "execution_count": 356,
   "id": "d9e9618f",
   "metadata": {},
   "outputs": [
    {
     "data": {
      "text/html": [
       "<div>\n",
       "<style scoped>\n",
       "    .dataframe tbody tr th:only-of-type {\n",
       "        vertical-align: middle;\n",
       "    }\n",
       "\n",
       "    .dataframe tbody tr th {\n",
       "        vertical-align: top;\n",
       "    }\n",
       "\n",
       "    .dataframe thead th {\n",
       "        text-align: right;\n",
       "    }\n",
       "</style>\n",
       "<table border=\"1\" class=\"dataframe\">\n",
       "  <thead>\n",
       "    <tr style=\"text-align: right;\">\n",
       "      <th></th>\n",
       "      <th>Headline</th>\n",
       "      <th>Body</th>\n",
       "      <th>Label</th>\n",
       "      <th>text_processed</th>\n",
       "      <th>final_news</th>\n",
       "    </tr>\n",
       "  </thead>\n",
       "  <tbody>\n",
       "    <tr>\n",
       "      <th>0</th>\n",
       "      <td>Four ways Bob Corker skewered Donald Trump</td>\n",
       "      <td>Image copyright Getty Images\\nOn Sunday mornin...</td>\n",
       "      <td>1</td>\n",
       "      <td>Image copyright Getty Images\\nOn Sunday mornin...</td>\n",
       "      <td>Four ways Bob Corker skewered Donald Trump Ima...</td>\n",
       "    </tr>\n",
       "    <tr>\n",
       "      <th>1</th>\n",
       "      <td>Linklater's war veteran comedy speaks to moder...</td>\n",
       "      <td>LONDON (Reuters) - “Last Flag Flying”, a comed...</td>\n",
       "      <td>1</td>\n",
       "      <td>“Last Flag Flying”, a comedy-drama about Vietn...</td>\n",
       "      <td>Linklater's war veteran comedy speaks to moder...</td>\n",
       "    </tr>\n",
       "    <tr>\n",
       "      <th>2</th>\n",
       "      <td>Trump’s Fight With Corker Jeopardizes His Legi...</td>\n",
       "      <td>The feud broke into public view last week when...</td>\n",
       "      <td>1</td>\n",
       "      <td>The feud broke into public view last week when...</td>\n",
       "      <td>Trump’s Fight With Corker Jeopardizes His Legi...</td>\n",
       "    </tr>\n",
       "    <tr>\n",
       "      <th>3</th>\n",
       "      <td>Egypt's Cheiron wins tie-up with Pemex for Mex...</td>\n",
       "      <td>MEXICO CITY (Reuters) - Egypt’s Cheiron Holdin...</td>\n",
       "      <td>1</td>\n",
       "      <td>Egypt’s Cheiron Holdings Limited won the right...</td>\n",
       "      <td>Egypt's Cheiron wins tie-up with Pemex for Mex...</td>\n",
       "    </tr>\n",
       "    <tr>\n",
       "      <th>4</th>\n",
       "      <td>Jason Aldean opens 'SNL' with Vegas tribute</td>\n",
       "      <td>Country singer Jason Aldean, who was performin...</td>\n",
       "      <td>1</td>\n",
       "      <td>Country singer Jason Aldean, who was performin...</td>\n",
       "      <td>Jason Aldean opens 'SNL' with Vegas tribute Co...</td>\n",
       "    </tr>\n",
       "  </tbody>\n",
       "</table>\n",
       "</div>"
      ],
      "text/plain": [
       "                                            Headline  \\\n",
       "0         Four ways Bob Corker skewered Donald Trump   \n",
       "1  Linklater's war veteran comedy speaks to moder...   \n",
       "2  Trump’s Fight With Corker Jeopardizes His Legi...   \n",
       "3  Egypt's Cheiron wins tie-up with Pemex for Mex...   \n",
       "4        Jason Aldean opens 'SNL' with Vegas tribute   \n",
       "\n",
       "                                                Body  Label  \\\n",
       "0  Image copyright Getty Images\\nOn Sunday mornin...      1   \n",
       "1  LONDON (Reuters) - “Last Flag Flying”, a comed...      1   \n",
       "2  The feud broke into public view last week when...      1   \n",
       "3  MEXICO CITY (Reuters) - Egypt’s Cheiron Holdin...      1   \n",
       "4  Country singer Jason Aldean, who was performin...      1   \n",
       "\n",
       "                                      text_processed  \\\n",
       "0  Image copyright Getty Images\\nOn Sunday mornin...   \n",
       "1  “Last Flag Flying”, a comedy-drama about Vietn...   \n",
       "2  The feud broke into public view last week when...   \n",
       "3  Egypt’s Cheiron Holdings Limited won the right...   \n",
       "4  Country singer Jason Aldean, who was performin...   \n",
       "\n",
       "                                          final_news  \n",
       "0  Four ways Bob Corker skewered Donald Trump Ima...  \n",
       "1  Linklater's war veteran comedy speaks to moder...  \n",
       "2  Trump’s Fight With Corker Jeopardizes His Legi...  \n",
       "3  Egypt's Cheiron wins tie-up with Pemex for Mex...  \n",
       "4  Jason Aldean opens 'SNL' with Vegas tribute Co...  "
      ]
     },
     "execution_count": 356,
     "metadata": {},
     "output_type": "execute_result"
    }
   ],
   "source": [
    "df['final_news'] = df['Headline'] + \" \" + df['text_processed']\n",
    "df.head()"
   ]
  },
  {
   "cell_type": "code",
   "execution_count": 357,
   "id": "536f7cf5",
   "metadata": {},
   "outputs": [
    {
     "data": {
      "text/html": [
       "<div>\n",
       "<style scoped>\n",
       "    .dataframe tbody tr th:only-of-type {\n",
       "        vertical-align: middle;\n",
       "    }\n",
       "\n",
       "    .dataframe tbody tr th {\n",
       "        vertical-align: top;\n",
       "    }\n",
       "\n",
       "    .dataframe thead th {\n",
       "        text-align: right;\n",
       "    }\n",
       "</style>\n",
       "<table border=\"1\" class=\"dataframe\">\n",
       "  <thead>\n",
       "    <tr style=\"text-align: right;\">\n",
       "      <th></th>\n",
       "      <th>Label</th>\n",
       "      <th>final_news</th>\n",
       "    </tr>\n",
       "  </thead>\n",
       "  <tbody>\n",
       "    <tr>\n",
       "      <th>0</th>\n",
       "      <td>1</td>\n",
       "      <td>Four ways Bob Corker skewered Donald Trump Ima...</td>\n",
       "    </tr>\n",
       "    <tr>\n",
       "      <th>1</th>\n",
       "      <td>1</td>\n",
       "      <td>Linklater's war veteran comedy speaks to moder...</td>\n",
       "    </tr>\n",
       "    <tr>\n",
       "      <th>2</th>\n",
       "      <td>1</td>\n",
       "      <td>Trump’s Fight With Corker Jeopardizes His Legi...</td>\n",
       "    </tr>\n",
       "    <tr>\n",
       "      <th>3</th>\n",
       "      <td>1</td>\n",
       "      <td>Egypt's Cheiron wins tie-up with Pemex for Mex...</td>\n",
       "    </tr>\n",
       "    <tr>\n",
       "      <th>4</th>\n",
       "      <td>1</td>\n",
       "      <td>Jason Aldean opens 'SNL' with Vegas tribute Co...</td>\n",
       "    </tr>\n",
       "    <tr>\n",
       "      <th>5</th>\n",
       "      <td>0</td>\n",
       "      <td>JetNation FanDuel League; Week 4 JetNation Fan...</td>\n",
       "    </tr>\n",
       "    <tr>\n",
       "      <th>6</th>\n",
       "      <td>1</td>\n",
       "      <td>Kansas Tried a Tax Plan Similar to Trump’s. It...</td>\n",
       "    </tr>\n",
       "    <tr>\n",
       "      <th>7</th>\n",
       "      <td>1</td>\n",
       "      <td>India RBI chief: growth important, but not at ...</td>\n",
       "    </tr>\n",
       "    <tr>\n",
       "      <th>8</th>\n",
       "      <td>1</td>\n",
       "      <td>EPA chief to sign rule on Clean Power Plan exi...</td>\n",
       "    </tr>\n",
       "    <tr>\n",
       "      <th>9</th>\n",
       "      <td>1</td>\n",
       "      <td>Talks on sale of Air Berlin planes to easyJet ...</td>\n",
       "    </tr>\n",
       "    <tr>\n",
       "      <th>10</th>\n",
       "      <td>0</td>\n",
       "      <td>U.S. President Donald Trump Quietly Signs Law ...</td>\n",
       "    </tr>\n",
       "    <tr>\n",
       "      <th>11</th>\n",
       "      <td>0</td>\n",
       "      <td>2017 Fantasy Football Team Defense Rankings - ...</td>\n",
       "    </tr>\n",
       "    <tr>\n",
       "      <th>12</th>\n",
       "      <td>0</td>\n",
       "      <td>Just Shut Up &amp; Play Some Damn Baseball!! Just ...</td>\n",
       "    </tr>\n",
       "    <tr>\n",
       "      <th>13</th>\n",
       "      <td>1</td>\n",
       "      <td>Deloitte cyber attack affected up to 350 clien...</td>\n",
       "    </tr>\n",
       "    <tr>\n",
       "      <th>14</th>\n",
       "      <td>0</td>\n",
       "      <td>10/7: Chuck Axed; HBD Brickyard, Adam, Moonlig...</td>\n",
       "    </tr>\n",
       "    <tr>\n",
       "      <th>15</th>\n",
       "      <td>1</td>\n",
       "      <td>Gunman’s Girlfriend Said She Didn’t Know He Pl...</td>\n",
       "    </tr>\n",
       "    <tr>\n",
       "      <th>16</th>\n",
       "      <td>1</td>\n",
       "      <td>Marilou Danley, Gunman’s Girlfriend, Says She ...</td>\n",
       "    </tr>\n",
       "    <tr>\n",
       "      <th>17</th>\n",
       "      <td>1</td>\n",
       "      <td>Trump’s Immigration Rhetoric Echoes a Bitter F...</td>\n",
       "    </tr>\n",
       "    <tr>\n",
       "      <th>18</th>\n",
       "      <td>0</td>\n",
       "      <td>Trump Bemoans ‘Little Appreciation’ As San Jua...</td>\n",
       "    </tr>\n",
       "    <tr>\n",
       "      <th>19</th>\n",
       "      <td>0</td>\n",
       "      <td>In Meeting With Military, Trump Talks Of 'Calm...</td>\n",
       "    </tr>\n",
       "  </tbody>\n",
       "</table>\n",
       "</div>"
      ],
      "text/plain": [
       "    Label                                         final_news\n",
       "0       1  Four ways Bob Corker skewered Donald Trump Ima...\n",
       "1       1  Linklater's war veteran comedy speaks to moder...\n",
       "2       1  Trump’s Fight With Corker Jeopardizes His Legi...\n",
       "3       1  Egypt's Cheiron wins tie-up with Pemex for Mex...\n",
       "4       1  Jason Aldean opens 'SNL' with Vegas tribute Co...\n",
       "5       0  JetNation FanDuel League; Week 4 JetNation Fan...\n",
       "6       1  Kansas Tried a Tax Plan Similar to Trump’s. It...\n",
       "7       1  India RBI chief: growth important, but not at ...\n",
       "8       1  EPA chief to sign rule on Clean Power Plan exi...\n",
       "9       1  Talks on sale of Air Berlin planes to easyJet ...\n",
       "10      0  U.S. President Donald Trump Quietly Signs Law ...\n",
       "11      0  2017 Fantasy Football Team Defense Rankings - ...\n",
       "12      0  Just Shut Up & Play Some Damn Baseball!! Just ...\n",
       "13      1  Deloitte cyber attack affected up to 350 clien...\n",
       "14      0  10/7: Chuck Axed; HBD Brickyard, Adam, Moonlig...\n",
       "15      1  Gunman’s Girlfriend Said She Didn’t Know He Pl...\n",
       "16      1  Marilou Danley, Gunman’s Girlfriend, Says She ...\n",
       "17      1  Trump’s Immigration Rhetoric Echoes a Bitter F...\n",
       "18      0  Trump Bemoans ‘Little Appreciation’ As San Jua...\n",
       "19      0  In Meeting With Military, Trump Talks Of 'Calm..."
      ]
     },
     "execution_count": 357,
     "metadata": {},
     "output_type": "execute_result"
    }
   ],
   "source": [
    "cols_del =['Headline','Body','text_processed']\n",
    "df = df.drop(cols_del,axis=1)\n",
    "\n",
    "df.head(20)"
   ]
  },
  {
   "cell_type": "code",
   "execution_count": 358,
   "id": "dc5fbda2",
   "metadata": {},
   "outputs": [],
   "source": [
    "stop = stopwords.words('english')\n",
    "\n",
    "def cleanText(txt):\n",
    "  # lowercaing\n",
    "    txt = txt.lower()\n",
    "  # removing stopwords\n",
    "    txt = ' '.join([word for word in txt.split() if word not in (stop)])\n",
    "  # removing non-alphabetic characters\n",
    "    txt = re.sub('[^a-z]',' ',txt)\n",
    "    return txt  "
   ]
  },
  {
   "cell_type": "code",
   "execution_count": 359,
   "id": "c8b76567",
   "metadata": {},
   "outputs": [
    {
     "data": {
      "text/html": [
       "<div>\n",
       "<style scoped>\n",
       "    .dataframe tbody tr th:only-of-type {\n",
       "        vertical-align: middle;\n",
       "    }\n",
       "\n",
       "    .dataframe tbody tr th {\n",
       "        vertical-align: top;\n",
       "    }\n",
       "\n",
       "    .dataframe thead th {\n",
       "        text-align: right;\n",
       "    }\n",
       "</style>\n",
       "<table border=\"1\" class=\"dataframe\">\n",
       "  <thead>\n",
       "    <tr style=\"text-align: right;\">\n",
       "      <th></th>\n",
       "      <th>Label</th>\n",
       "      <th>final_news</th>\n",
       "    </tr>\n",
       "  </thead>\n",
       "  <tbody>\n",
       "    <tr>\n",
       "      <th>0</th>\n",
       "      <td>1</td>\n",
       "      <td>four ways bob corker skewered donald trump ima...</td>\n",
       "    </tr>\n",
       "    <tr>\n",
       "      <th>1</th>\n",
       "      <td>1</td>\n",
       "      <td>linklater s war veteran comedy speaks modern a...</td>\n",
       "    </tr>\n",
       "    <tr>\n",
       "      <th>2</th>\n",
       "      <td>1</td>\n",
       "      <td>trump s fight corker jeopardizes legislative a...</td>\n",
       "    </tr>\n",
       "    <tr>\n",
       "      <th>3</th>\n",
       "      <td>1</td>\n",
       "      <td>egypt s cheiron wins tie up pemex mexican onsh...</td>\n",
       "    </tr>\n",
       "    <tr>\n",
       "      <th>4</th>\n",
       "      <td>1</td>\n",
       "      <td>jason aldean opens  snl  vegas tribute country...</td>\n",
       "    </tr>\n",
       "  </tbody>\n",
       "</table>\n",
       "</div>"
      ],
      "text/plain": [
       "   Label                                         final_news\n",
       "0      1  four ways bob corker skewered donald trump ima...\n",
       "1      1  linklater s war veteran comedy speaks modern a...\n",
       "2      1  trump s fight corker jeopardizes legislative a...\n",
       "3      1  egypt s cheiron wins tie up pemex mexican onsh...\n",
       "4      1  jason aldean opens  snl  vegas tribute country..."
      ]
     },
     "execution_count": 359,
     "metadata": {},
     "output_type": "execute_result"
    }
   ],
   "source": [
    "df['final_news'] = df['final_news'].apply(cleanText)\n",
    "df.head()"
   ]
  },
  {
   "cell_type": "code",
   "execution_count": 360,
   "id": "67cef2cd",
   "metadata": {},
   "outputs": [],
   "source": [
    "path = r\"C:\\Users\\KIIT0\\Downloads\\dataa (1).xls\"\n",
    "\n",
    "EMBEDDING_FILE=f'{path}/glove.6B.50d.txt'\n",
    "\n",
    "# configuration setting\n",
    "MAX_SEQUENCE_LENGTH = 100\n",
    "MAX_VOCAB_SIZE = 20000\n",
    "EMBEDDING_DIM = 50\n",
    "VALIDATION_SPLIT = 0.2\n",
    "BATCH_SIZE = 32\n",
    "EPOCHS = 100"
   ]
  },
  {
   "cell_type": "code",
   "execution_count": 361,
   "id": "fc3c6570",
   "metadata": {},
   "outputs": [],
   "source": [
    "y = df['Label'].values\n",
    "X = df.drop(['Label'],axis=1)"
   ]
  },
  {
   "cell_type": "code",
   "execution_count": 362,
   "id": "60f4268d",
   "metadata": {},
   "outputs": [
    {
     "data": {
      "text/plain": [
       "(4009,)"
      ]
     },
     "execution_count": 362,
     "metadata": {},
     "output_type": "execute_result"
    }
   ],
   "source": [
    "y.shape"
   ]
  },
  {
   "cell_type": "code",
   "execution_count": 363,
   "id": "374b93db",
   "metadata": {},
   "outputs": [
    {
     "name": "stdout",
     "output_type": "stream",
     "text": [
      "Loading word vectors...\n",
      "Found 400000 word vectors.\n"
     ]
    }
   ],
   "source": [
    "EMBEDDING_FILE = r\"C:/Users/KIIT0/Downloads/glove.6B.50d.txt\"\n",
    "\n",
    "print('Loading word vectors...')\n",
    "word2vec = {}\n",
    "with open(EMBEDDING_FILE, 'r', encoding='utf-8') as f:\n",
    "    for line in f:\n",
    "        values = line.split()\n",
    "        word = values[0]\n",
    "        vec = np.asarray(values[1:], dtype='float32')\n",
    "        word2vec[word] = vec\n",
    "print('Found %s word vectors.' % len(word2vec))\n"
   ]
  },
  {
   "cell_type": "code",
   "execution_count": 364,
   "id": "db8c4e33",
   "metadata": {},
   "outputs": [
    {
     "name": "stdout",
     "output_type": "stream",
     "text": [
      "Shape of data tensor: (4009, 100)\n"
     ]
    }
   ],
   "source": [
    "tokenizer = Tokenizer(num_words=MAX_VOCAB_SIZE)\n",
    "tokenizer.fit_on_texts(list(X['final_news']))\n",
    "X = tokenizer.texts_to_sequences(list(X['final_news']))\n",
    "\n",
    "X = pad_sequences(X, maxlen=MAX_SEQUENCE_LENGTH)\n",
    "print('Shape of data tensor:', X.shape)"
   ]
  },
  {
   "cell_type": "code",
   "execution_count": 365,
   "id": "ebdee2a5",
   "metadata": {},
   "outputs": [
    {
     "name": "stdout",
     "output_type": "stream",
     "text": [
      "Found 41259 unique tokens.\n"
     ]
    }
   ],
   "source": [
    "word2idx = tokenizer.word_index\n",
    "print('Found %s unique tokens.' % len(word2idx))"
   ]
  },
  {
   "cell_type": "code",
   "execution_count": 366,
   "id": "50ff2656",
   "metadata": {},
   "outputs": [
    {
     "name": "stdout",
     "output_type": "stream",
     "text": [
      "Filling pre-trained embeddings...\n"
     ]
    }
   ],
   "source": [
    "print('Filling pre-trained embeddings...')\n",
    "num_words = min(MAX_VOCAB_SIZE, len(word2idx) + 1)\n",
    "embedding_matrix = np.zeros((num_words, EMBEDDING_DIM))\n",
    "for word, i in word2idx.items():\n",
    "  if i < MAX_VOCAB_SIZE:\n",
    "    embedding_vector = word2vec.get(word)\n",
    "    if embedding_vector is not None:\n",
    "      # words not found in embedding index will be all zeros.\n",
    "      embedding_matrix[i] = embedding_vector"
   ]
  },
  {
   "cell_type": "code",
   "execution_count": 367,
   "id": "99dff387",
   "metadata": {},
   "outputs": [
    {
     "name": "stderr",
     "output_type": "stream",
     "text": [
      "C:\\Users\\KIIT0\\AppData\\Roaming\\Python\\Python311\\site-packages\\keras\\src\\layers\\core\\embedding.py:90: UserWarning: Argument `input_length` is deprecated. Just remove it.\n",
      "  warnings.warn(\n"
     ]
    }
   ],
   "source": [
    "embedding_layer = Embedding(\n",
    "  num_words,\n",
    "  EMBEDDING_DIM,\n",
    "  weights=[embedding_matrix],\n",
    "  input_length=MAX_SEQUENCE_LENGTH,\n",
    "  trainable=False\n",
    ")"
   ]
  },
  {
   "cell_type": "code",
   "execution_count": 368,
   "id": "8b34ffcd",
   "metadata": {},
   "outputs": [
    {
     "name": "stdout",
     "output_type": "stream",
     "text": [
      "Building model...\n"
     ]
    },
    {
     "data": {
      "text/html": [
       "<pre style=\"white-space:pre;overflow-x:auto;line-height:normal;font-family:Menlo,'DejaVu Sans Mono',consolas,'Courier New',monospace\"><span style=\"font-weight: bold\">Model: \"functional_1\"</span>\n",
       "</pre>\n"
      ],
      "text/plain": [
       "\u001b[1mModel: \"functional_1\"\u001b[0m\n"
      ]
     },
     "metadata": {},
     "output_type": "display_data"
    },
    {
     "data": {
      "text/html": [
       "<pre style=\"white-space:pre;overflow-x:auto;line-height:normal;font-family:Menlo,'DejaVu Sans Mono',consolas,'Courier New',monospace\">┏━━━━━━━━━━━━━━━━━━━━━━━━━━━━━━━━━━━━━━┳━━━━━━━━━━━━━━━━━━━━━━━━━━━━━┳━━━━━━━━━━━━━━━━━┓\n",
       "┃<span style=\"font-weight: bold\"> Layer (type)                         </span>┃<span style=\"font-weight: bold\"> Output Shape                </span>┃<span style=\"font-weight: bold\">         Param # </span>┃\n",
       "┡━━━━━━━━━━━━━━━━━━━━━━━━━━━━━━━━━━━━━━╇━━━━━━━━━━━━━━━━━━━━━━━━━━━━━╇━━━━━━━━━━━━━━━━━┩\n",
       "│ input_layer_1 (<span style=\"color: #0087ff; text-decoration-color: #0087ff\">InputLayer</span>)           │ (<span style=\"color: #00d7ff; text-decoration-color: #00d7ff\">None</span>, <span style=\"color: #00af00; text-decoration-color: #00af00\">100</span>)                 │               <span style=\"color: #00af00; text-decoration-color: #00af00\">0</span> │\n",
       "├──────────────────────────────────────┼─────────────────────────────┼─────────────────┤\n",
       "│ embedding_1 (<span style=\"color: #0087ff; text-decoration-color: #0087ff\">Embedding</span>)              │ (<span style=\"color: #00d7ff; text-decoration-color: #00d7ff\">None</span>, <span style=\"color: #00af00; text-decoration-color: #00af00\">100</span>, <span style=\"color: #00af00; text-decoration-color: #00af00\">50</span>)             │       <span style=\"color: #00af00; text-decoration-color: #00af00\">1,000,000</span> │\n",
       "├──────────────────────────────────────┼─────────────────────────────┼─────────────────┤\n",
       "│ bidirectional_1 (<span style=\"color: #0087ff; text-decoration-color: #0087ff\">Bidirectional</span>)      │ (<span style=\"color: #00d7ff; text-decoration-color: #00d7ff\">None</span>, <span style=\"color: #00af00; text-decoration-color: #00af00\">100</span>, <span style=\"color: #00af00; text-decoration-color: #00af00\">30</span>)             │           <span style=\"color: #00af00; text-decoration-color: #00af00\">7,920</span> │\n",
       "├──────────────────────────────────────┼─────────────────────────────┼─────────────────┤\n",
       "│ global_max_pooling1d_1               │ (<span style=\"color: #00d7ff; text-decoration-color: #00d7ff\">None</span>, <span style=\"color: #00af00; text-decoration-color: #00af00\">30</span>)                  │               <span style=\"color: #00af00; text-decoration-color: #00af00\">0</span> │\n",
       "│ (<span style=\"color: #0087ff; text-decoration-color: #0087ff\">GlobalMaxPooling1D</span>)                 │                             │                 │\n",
       "├──────────────────────────────────────┼─────────────────────────────┼─────────────────┤\n",
       "│ dense_1 (<span style=\"color: #0087ff; text-decoration-color: #0087ff\">Dense</span>)                      │ (<span style=\"color: #00d7ff; text-decoration-color: #00d7ff\">None</span>, <span style=\"color: #00af00; text-decoration-color: #00af00\">1</span>)                   │              <span style=\"color: #00af00; text-decoration-color: #00af00\">31</span> │\n",
       "└──────────────────────────────────────┴─────────────────────────────┴─────────────────┘\n",
       "</pre>\n"
      ],
      "text/plain": [
       "┏━━━━━━━━━━━━━━━━━━━━━━━━━━━━━━━━━━━━━━┳━━━━━━━━━━━━━━━━━━━━━━━━━━━━━┳━━━━━━━━━━━━━━━━━┓\n",
       "┃\u001b[1m \u001b[0m\u001b[1mLayer (type)                        \u001b[0m\u001b[1m \u001b[0m┃\u001b[1m \u001b[0m\u001b[1mOutput Shape               \u001b[0m\u001b[1m \u001b[0m┃\u001b[1m \u001b[0m\u001b[1m        Param #\u001b[0m\u001b[1m \u001b[0m┃\n",
       "┡━━━━━━━━━━━━━━━━━━━━━━━━━━━━━━━━━━━━━━╇━━━━━━━━━━━━━━━━━━━━━━━━━━━━━╇━━━━━━━━━━━━━━━━━┩\n",
       "│ input_layer_1 (\u001b[38;5;33mInputLayer\u001b[0m)           │ (\u001b[38;5;45mNone\u001b[0m, \u001b[38;5;34m100\u001b[0m)                 │               \u001b[38;5;34m0\u001b[0m │\n",
       "├──────────────────────────────────────┼─────────────────────────────┼─────────────────┤\n",
       "│ embedding_1 (\u001b[38;5;33mEmbedding\u001b[0m)              │ (\u001b[38;5;45mNone\u001b[0m, \u001b[38;5;34m100\u001b[0m, \u001b[38;5;34m50\u001b[0m)             │       \u001b[38;5;34m1,000,000\u001b[0m │\n",
       "├──────────────────────────────────────┼─────────────────────────────┼─────────────────┤\n",
       "│ bidirectional_1 (\u001b[38;5;33mBidirectional\u001b[0m)      │ (\u001b[38;5;45mNone\u001b[0m, \u001b[38;5;34m100\u001b[0m, \u001b[38;5;34m30\u001b[0m)             │           \u001b[38;5;34m7,920\u001b[0m │\n",
       "├──────────────────────────────────────┼─────────────────────────────┼─────────────────┤\n",
       "│ global_max_pooling1d_1               │ (\u001b[38;5;45mNone\u001b[0m, \u001b[38;5;34m30\u001b[0m)                  │               \u001b[38;5;34m0\u001b[0m │\n",
       "│ (\u001b[38;5;33mGlobalMaxPooling1D\u001b[0m)                 │                             │                 │\n",
       "├──────────────────────────────────────┼─────────────────────────────┼─────────────────┤\n",
       "│ dense_1 (\u001b[38;5;33mDense\u001b[0m)                      │ (\u001b[38;5;45mNone\u001b[0m, \u001b[38;5;34m1\u001b[0m)                   │              \u001b[38;5;34m31\u001b[0m │\n",
       "└──────────────────────────────────────┴─────────────────────────────┴─────────────────┘\n"
      ]
     },
     "metadata": {},
     "output_type": "display_data"
    },
    {
     "data": {
      "text/html": [
       "<pre style=\"white-space:pre;overflow-x:auto;line-height:normal;font-family:Menlo,'DejaVu Sans Mono',consolas,'Courier New',monospace\"><span style=\"font-weight: bold\"> Total params: </span><span style=\"color: #00af00; text-decoration-color: #00af00\">1,007,951</span> (3.85 MB)\n",
       "</pre>\n"
      ],
      "text/plain": [
       "\u001b[1m Total params: \u001b[0m\u001b[38;5;34m1,007,951\u001b[0m (3.85 MB)\n"
      ]
     },
     "metadata": {},
     "output_type": "display_data"
    },
    {
     "data": {
      "text/html": [
       "<pre style=\"white-space:pre;overflow-x:auto;line-height:normal;font-family:Menlo,'DejaVu Sans Mono',consolas,'Courier New',monospace\"><span style=\"font-weight: bold\"> Trainable params: </span><span style=\"color: #00af00; text-decoration-color: #00af00\">7,951</span> (31.06 KB)\n",
       "</pre>\n"
      ],
      "text/plain": [
       "\u001b[1m Trainable params: \u001b[0m\u001b[38;5;34m7,951\u001b[0m (31.06 KB)\n"
      ]
     },
     "metadata": {},
     "output_type": "display_data"
    },
    {
     "data": {
      "text/html": [
       "<pre style=\"white-space:pre;overflow-x:auto;line-height:normal;font-family:Menlo,'DejaVu Sans Mono',consolas,'Courier New',monospace\"><span style=\"font-weight: bold\"> Non-trainable params: </span><span style=\"color: #00af00; text-decoration-color: #00af00\">1,000,000</span> (3.81 MB)\n",
       "</pre>\n"
      ],
      "text/plain": [
       "\u001b[1m Non-trainable params: \u001b[0m\u001b[38;5;34m1,000,000\u001b[0m (3.81 MB)\n"
      ]
     },
     "metadata": {},
     "output_type": "display_data"
    }
   ],
   "source": [
    "print('Building model...')\n",
    "\n",
    "input_ = Input(shape=(MAX_SEQUENCE_LENGTH,))\n",
    "x = embedding_layer(input_)\n",
    "# x = LSTM(15, return_sequences=True)(x)\n",
    "x = Bidirectional(LSTM(15, return_sequences=True))(x)\n",
    "x = GlobalMaxPool1D()(x)\n",
    "output = Dense(1, activation=\"sigmoid\")(x)\n",
    "\n",
    "model = Model(input_, output)\n",
    "model.compile(\n",
    "  loss='binary_crossentropy',\n",
    "  optimizer='adam',\n",
    "  metrics=['accuracy']\n",
    ")\n",
    "model.summary()"
   ]
  },
  {
   "cell_type": "code",
   "execution_count": 369,
   "id": "40d78f8e",
   "metadata": {},
   "outputs": [],
   "source": [
    "X_train, X_test, y_train, y_test = train_test_split(X, y,test_size=0.20,stratify=y, random_state=0)"
   ]
  },
  {
   "cell_type": "code",
   "execution_count": 370,
   "id": "2a0eac07",
   "metadata": {},
   "outputs": [
    {
     "name": "stdout",
     "output_type": "stream",
     "text": [
      "Training model...\n",
      "Epoch 1/100\n",
      "\u001b[1m81/81\u001b[0m \u001b[32m━━━━━━━━━━━━━━━━━━━━\u001b[0m\u001b[37m\u001b[0m \u001b[1m13s\u001b[0m 68ms/step - accuracy: 0.6101 - loss: 0.6640 - val_accuracy: 0.7757 - val_loss: 0.5052\n",
      "Epoch 2/100\n",
      "\u001b[1m81/81\u001b[0m \u001b[32m━━━━━━━━━━━━━━━━━━━━\u001b[0m\u001b[37m\u001b[0m \u001b[1m5s\u001b[0m 58ms/step - accuracy: 0.8316 - loss: 0.4433 - val_accuracy: 0.8847 - val_loss: 0.3076\n",
      "Epoch 3/100\n",
      "\u001b[1m81/81\u001b[0m \u001b[32m━━━━━━━━━━━━━━━━━━━━\u001b[0m\u001b[37m\u001b[0m \u001b[1m6s\u001b[0m 71ms/step - accuracy: 0.9092 - loss: 0.2650 - val_accuracy: 0.9237 - val_loss: 0.2252\n",
      "Epoch 4/100\n",
      "\u001b[1m81/81\u001b[0m \u001b[32m━━━━━━━━━━━━━━━━━━━━\u001b[0m\u001b[37m\u001b[0m \u001b[1m5s\u001b[0m 65ms/step - accuracy: 0.9332 - loss: 0.2009 - val_accuracy: 0.9268 - val_loss: 0.2161\n",
      "Epoch 5/100\n",
      "\u001b[1m81/81\u001b[0m \u001b[32m━━━━━━━━━━━━━━━━━━━━\u001b[0m\u001b[37m\u001b[0m \u001b[1m5s\u001b[0m 66ms/step - accuracy: 0.9458 - loss: 0.1625 - val_accuracy: 0.9299 - val_loss: 0.2233\n",
      "Epoch 6/100\n",
      "\u001b[1m81/81\u001b[0m \u001b[32m━━━━━━━━━━━━━━━━━━━━\u001b[0m\u001b[37m\u001b[0m \u001b[1m6s\u001b[0m 72ms/step - accuracy: 0.9492 - loss: 0.1810 - val_accuracy: 0.9455 - val_loss: 0.1928\n",
      "Epoch 7/100\n",
      "\u001b[1m81/81\u001b[0m \u001b[32m━━━━━━━━━━━━━━━━━━━━\u001b[0m\u001b[37m\u001b[0m \u001b[1m4s\u001b[0m 49ms/step - accuracy: 0.9491 - loss: 0.1654 - val_accuracy: 0.9502 - val_loss: 0.1720\n",
      "Epoch 8/100\n",
      "\u001b[1m81/81\u001b[0m \u001b[32m━━━━━━━━━━━━━━━━━━━━\u001b[0m\u001b[37m\u001b[0m \u001b[1m4s\u001b[0m 47ms/step - accuracy: 0.9709 - loss: 0.1167 - val_accuracy: 0.9548 - val_loss: 0.1549\n",
      "Epoch 9/100\n",
      "\u001b[1m81/81\u001b[0m \u001b[32m━━━━━━━━━━━━━━━━━━━━\u001b[0m\u001b[37m\u001b[0m \u001b[1m4s\u001b[0m 47ms/step - accuracy: 0.9658 - loss: 0.1152 - val_accuracy: 0.9533 - val_loss: 0.1477\n",
      "Epoch 10/100\n",
      "\u001b[1m81/81\u001b[0m \u001b[32m━━━━━━━━━━━━━━━━━━━━\u001b[0m\u001b[37m\u001b[0m \u001b[1m4s\u001b[0m 47ms/step - accuracy: 0.9740 - loss: 0.0979 - val_accuracy: 0.9579 - val_loss: 0.1404\n",
      "Epoch 11/100\n",
      "\u001b[1m81/81\u001b[0m \u001b[32m━━━━━━━━━━━━━━━━━━━━\u001b[0m\u001b[37m\u001b[0m \u001b[1m4s\u001b[0m 48ms/step - accuracy: 0.9803 - loss: 0.0870 - val_accuracy: 0.9626 - val_loss: 0.1328\n",
      "Epoch 12/100\n",
      "\u001b[1m81/81\u001b[0m \u001b[32m━━━━━━━━━━━━━━━━━━━━\u001b[0m\u001b[37m\u001b[0m \u001b[1m3s\u001b[0m 43ms/step - accuracy: 0.9736 - loss: 0.0852 - val_accuracy: 0.9611 - val_loss: 0.1282\n",
      "Epoch 13/100\n",
      "\u001b[1m81/81\u001b[0m \u001b[32m━━━━━━━━━━━━━━━━━━━━\u001b[0m\u001b[37m\u001b[0m \u001b[1m4s\u001b[0m 43ms/step - accuracy: 0.9786 - loss: 0.0761 - val_accuracy: 0.9595 - val_loss: 0.1296\n",
      "Epoch 14/100\n",
      "\u001b[1m81/81\u001b[0m \u001b[32m━━━━━━━━━━━━━━━━━━━━\u001b[0m\u001b[37m\u001b[0m \u001b[1m4s\u001b[0m 48ms/step - accuracy: 0.9741 - loss: 0.0888 - val_accuracy: 0.9470 - val_loss: 0.1384\n",
      "Epoch 15/100\n",
      "\u001b[1m81/81\u001b[0m \u001b[32m━━━━━━━━━━━━━━━━━━━━\u001b[0m\u001b[37m\u001b[0m \u001b[1m6s\u001b[0m 78ms/step - accuracy: 0.9815 - loss: 0.0824 - val_accuracy: 0.9579 - val_loss: 0.1236\n",
      "Epoch 16/100\n",
      "\u001b[1m81/81\u001b[0m \u001b[32m━━━━━━━━━━━━━━━━━━━━\u001b[0m\u001b[37m\u001b[0m \u001b[1m6s\u001b[0m 70ms/step - accuracy: 0.9789 - loss: 0.0710 - val_accuracy: 0.9486 - val_loss: 0.1311\n",
      "Epoch 17/100\n",
      "\u001b[1m81/81\u001b[0m \u001b[32m━━━━━━━━━━━━━━━━━━━━\u001b[0m\u001b[37m\u001b[0m \u001b[1m6s\u001b[0m 73ms/step - accuracy: 0.9882 - loss: 0.0515 - val_accuracy: 0.9548 - val_loss: 0.1235\n",
      "Epoch 18/100\n",
      "\u001b[1m81/81\u001b[0m \u001b[32m━━━━━━━━━━━━━━━━━━━━\u001b[0m\u001b[37m\u001b[0m \u001b[1m6s\u001b[0m 77ms/step - accuracy: 0.9866 - loss: 0.0526 - val_accuracy: 0.9564 - val_loss: 0.1218\n",
      "Epoch 19/100\n",
      "\u001b[1m81/81\u001b[0m \u001b[32m━━━━━━━━━━━━━━━━━━━━\u001b[0m\u001b[37m\u001b[0m \u001b[1m5s\u001b[0m 59ms/step - accuracy: 0.9886 - loss: 0.0507 - val_accuracy: 0.9611 - val_loss: 0.1200\n",
      "Epoch 20/100\n",
      "\u001b[1m81/81\u001b[0m \u001b[32m━━━━━━━━━━━━━━━━━━━━\u001b[0m\u001b[37m\u001b[0m \u001b[1m5s\u001b[0m 61ms/step - accuracy: 0.9931 - loss: 0.0407 - val_accuracy: 0.9611 - val_loss: 0.1172\n",
      "Epoch 21/100\n",
      "\u001b[1m81/81\u001b[0m \u001b[32m━━━━━━━━━━━━━━━━━━━━\u001b[0m\u001b[37m\u001b[0m \u001b[1m5s\u001b[0m 65ms/step - accuracy: 0.9934 - loss: 0.0350 - val_accuracy: 0.9564 - val_loss: 0.1340\n",
      "Epoch 22/100\n",
      "\u001b[1m81/81\u001b[0m \u001b[32m━━━━━━━━━━━━━━━━━━━━\u001b[0m\u001b[37m\u001b[0m \u001b[1m5s\u001b[0m 57ms/step - accuracy: 0.9774 - loss: 0.0657 - val_accuracy: 0.9673 - val_loss: 0.1109\n",
      "Epoch 23/100\n",
      "\u001b[1m81/81\u001b[0m \u001b[32m━━━━━━━━━━━━━━━━━━━━\u001b[0m\u001b[37m\u001b[0m \u001b[1m5s\u001b[0m 60ms/step - accuracy: 0.9951 - loss: 0.0338 - val_accuracy: 0.9657 - val_loss: 0.1112\n",
      "Epoch 24/100\n",
      "\u001b[1m81/81\u001b[0m \u001b[32m━━━━━━━━━━━━━━━━━━━━\u001b[0m\u001b[37m\u001b[0m \u001b[1m5s\u001b[0m 59ms/step - accuracy: 0.9970 - loss: 0.0248 - val_accuracy: 0.9579 - val_loss: 0.1299\n",
      "Epoch 25/100\n",
      "\u001b[1m81/81\u001b[0m \u001b[32m━━━━━━━━━━━━━━━━━━━━\u001b[0m\u001b[37m\u001b[0m \u001b[1m5s\u001b[0m 59ms/step - accuracy: 0.9945 - loss: 0.0287 - val_accuracy: 0.9626 - val_loss: 0.1178\n",
      "Epoch 26/100\n",
      "\u001b[1m81/81\u001b[0m \u001b[32m━━━━━━━━━━━━━━━━━━━━\u001b[0m\u001b[37m\u001b[0m \u001b[1m5s\u001b[0m 58ms/step - accuracy: 0.9957 - loss: 0.0222 - val_accuracy: 0.9595 - val_loss: 0.1285\n",
      "Epoch 27/100\n",
      "\u001b[1m81/81\u001b[0m \u001b[32m━━━━━━━━━━━━━━━━━━━━\u001b[0m\u001b[37m\u001b[0m \u001b[1m5s\u001b[0m 59ms/step - accuracy: 0.9932 - loss: 0.0248 - val_accuracy: 0.9533 - val_loss: 0.1692\n",
      "Epoch 28/100\n",
      "\u001b[1m81/81\u001b[0m \u001b[32m━━━━━━━━━━━━━━━━━━━━\u001b[0m\u001b[37m\u001b[0m \u001b[1m5s\u001b[0m 57ms/step - accuracy: 0.9894 - loss: 0.0349 - val_accuracy: 0.9424 - val_loss: 0.1526\n",
      "Epoch 29/100\n",
      "\u001b[1m81/81\u001b[0m \u001b[32m━━━━━━━━━━━━━━━━━━━━\u001b[0m\u001b[37m\u001b[0m \u001b[1m5s\u001b[0m 59ms/step - accuracy: 0.9854 - loss: 0.0619 - val_accuracy: 0.9657 - val_loss: 0.1115\n",
      "Epoch 30/100\n",
      "\u001b[1m81/81\u001b[0m \u001b[32m━━━━━━━━━━━━━━━━━━━━\u001b[0m\u001b[37m\u001b[0m \u001b[1m5s\u001b[0m 58ms/step - accuracy: 0.9929 - loss: 0.0328 - val_accuracy: 0.9611 - val_loss: 0.1271\n",
      "Epoch 31/100\n",
      "\u001b[1m81/81\u001b[0m \u001b[32m━━━━━━━━━━━━━━━━━━━━\u001b[0m\u001b[37m\u001b[0m \u001b[1m6s\u001b[0m 69ms/step - accuracy: 0.9959 - loss: 0.0238 - val_accuracy: 0.9626 - val_loss: 0.1266\n",
      "Epoch 32/100\n",
      "\u001b[1m81/81\u001b[0m \u001b[32m━━━━━━━━━━━━━━━━━━━━\u001b[0m\u001b[37m\u001b[0m \u001b[1m5s\u001b[0m 60ms/step - accuracy: 0.9941 - loss: 0.0252 - val_accuracy: 0.9642 - val_loss: 0.1180\n",
      "Epoch 33/100\n",
      "\u001b[1m81/81\u001b[0m \u001b[32m━━━━━━━━━━━━━━━━━━━━\u001b[0m\u001b[37m\u001b[0m \u001b[1m5s\u001b[0m 56ms/step - accuracy: 0.9937 - loss: 0.0244 - val_accuracy: 0.9611 - val_loss: 0.1270\n",
      "Epoch 34/100\n",
      "\u001b[1m81/81\u001b[0m \u001b[32m━━━━━━━━━━━━━━━━━━━━\u001b[0m\u001b[37m\u001b[0m \u001b[1m5s\u001b[0m 55ms/step - accuracy: 0.9983 - loss: 0.0153 - val_accuracy: 0.9626 - val_loss: 0.1355\n",
      "Epoch 35/100\n",
      "\u001b[1m81/81\u001b[0m \u001b[32m━━━━━━━━━━━━━━━━━━━━\u001b[0m\u001b[37m\u001b[0m \u001b[1m5s\u001b[0m 62ms/step - accuracy: 0.9969 - loss: 0.0176 - val_accuracy: 0.9595 - val_loss: 0.1465\n",
      "Epoch 36/100\n",
      "\u001b[1m81/81\u001b[0m \u001b[32m━━━━━━━━━━━━━━━━━━━━\u001b[0m\u001b[37m\u001b[0m \u001b[1m5s\u001b[0m 59ms/step - accuracy: 0.9981 - loss: 0.0158 - val_accuracy: 0.9642 - val_loss: 0.1261\n",
      "Epoch 37/100\n",
      "\u001b[1m81/81\u001b[0m \u001b[32m━━━━━━━━━━━━━━━━━━━━\u001b[0m\u001b[37m\u001b[0m \u001b[1m5s\u001b[0m 59ms/step - accuracy: 0.9977 - loss: 0.0126 - val_accuracy: 0.9564 - val_loss: 0.1454\n",
      "Epoch 38/100\n",
      "\u001b[1m81/81\u001b[0m \u001b[32m━━━━━━━━━━━━━━━━━━━━\u001b[0m\u001b[37m\u001b[0m \u001b[1m5s\u001b[0m 63ms/step - accuracy: 0.9987 - loss: 0.0108 - val_accuracy: 0.9595 - val_loss: 0.1318\n",
      "Epoch 39/100\n",
      "\u001b[1m81/81\u001b[0m \u001b[32m━━━━━━━━━━━━━━━━━━━━\u001b[0m\u001b[37m\u001b[0m \u001b[1m6s\u001b[0m 68ms/step - accuracy: 0.9992 - loss: 0.0111 - val_accuracy: 0.9533 - val_loss: 0.1497\n",
      "Epoch 40/100\n",
      "\u001b[1m81/81\u001b[0m \u001b[32m━━━━━━━━━━━━━━━━━━━━\u001b[0m\u001b[37m\u001b[0m \u001b[1m5s\u001b[0m 65ms/step - accuracy: 0.9992 - loss: 0.0096 - val_accuracy: 0.9548 - val_loss: 0.1521\n",
      "Epoch 41/100\n",
      "\u001b[1m81/81\u001b[0m \u001b[32m━━━━━━━━━━━━━━━━━━━━\u001b[0m\u001b[37m\u001b[0m \u001b[1m5s\u001b[0m 63ms/step - accuracy: 0.9984 - loss: 0.0106 - val_accuracy: 0.9533 - val_loss: 0.1623\n",
      "Epoch 42/100\n",
      "\u001b[1m81/81\u001b[0m \u001b[32m━━━━━━━━━━━━━━━━━━━━\u001b[0m\u001b[37m\u001b[0m \u001b[1m5s\u001b[0m 60ms/step - accuracy: 0.9987 - loss: 0.0086 - val_accuracy: 0.9548 - val_loss: 0.1622\n",
      "Epoch 43/100\n",
      "\u001b[1m81/81\u001b[0m \u001b[32m━━━━━━━━━━━━━━━━━━━━\u001b[0m\u001b[37m\u001b[0m \u001b[1m5s\u001b[0m 57ms/step - accuracy: 0.9986 - loss: 0.0089 - val_accuracy: 0.9564 - val_loss: 0.1623\n",
      "Epoch 44/100\n",
      "\u001b[1m81/81\u001b[0m \u001b[32m━━━━━━━━━━━━━━━━━━━━\u001b[0m\u001b[37m\u001b[0m \u001b[1m6s\u001b[0m 69ms/step - accuracy: 0.9988 - loss: 0.0094 - val_accuracy: 0.9548 - val_loss: 0.1657\n",
      "Epoch 45/100\n",
      "\u001b[1m81/81\u001b[0m \u001b[32m━━━━━━━━━━━━━━━━━━━━\u001b[0m\u001b[37m\u001b[0m \u001b[1m6s\u001b[0m 68ms/step - accuracy: 0.9996 - loss: 0.0083 - val_accuracy: 0.9595 - val_loss: 0.1397\n",
      "Epoch 46/100\n",
      "\u001b[1m81/81\u001b[0m \u001b[32m━━━━━━━━━━━━━━━━━━━━\u001b[0m\u001b[37m\u001b[0m \u001b[1m5s\u001b[0m 61ms/step - accuracy: 0.9953 - loss: 0.0232 - val_accuracy: 0.9595 - val_loss: 0.1367\n",
      "Epoch 47/100\n",
      "\u001b[1m81/81\u001b[0m \u001b[32m━━━━━━━━━━━━━━━━━━━━\u001b[0m\u001b[37m\u001b[0m \u001b[1m5s\u001b[0m 60ms/step - accuracy: 0.9998 - loss: 0.0083 - val_accuracy: 0.9642 - val_loss: 0.1356\n",
      "Epoch 48/100\n",
      "\u001b[1m81/81\u001b[0m \u001b[32m━━━━━━━━━━━━━━━━━━━━\u001b[0m\u001b[37m\u001b[0m \u001b[1m5s\u001b[0m 59ms/step - accuracy: 0.9866 - loss: 0.0403 - val_accuracy: 0.9673 - val_loss: 0.1059\n",
      "Epoch 49/100\n",
      "\u001b[1m81/81\u001b[0m \u001b[32m━━━━━━━━━━━━━━━━━━━━\u001b[0m\u001b[37m\u001b[0m \u001b[1m5s\u001b[0m 58ms/step - accuracy: 0.9989 - loss: 0.0146 - val_accuracy: 0.9642 - val_loss: 0.1070\n",
      "Epoch 50/100\n",
      "\u001b[1m81/81\u001b[0m \u001b[32m━━━━━━━━━━━━━━━━━━━━\u001b[0m\u001b[37m\u001b[0m \u001b[1m5s\u001b[0m 60ms/step - accuracy: 0.9994 - loss: 0.0101 - val_accuracy: 0.9673 - val_loss: 0.1114\n",
      "Epoch 51/100\n",
      "\u001b[1m81/81\u001b[0m \u001b[32m━━━━━━━━━━━━━━━━━━━━\u001b[0m\u001b[37m\u001b[0m \u001b[1m6s\u001b[0m 68ms/step - accuracy: 0.9991 - loss: 0.0091 - val_accuracy: 0.9626 - val_loss: 0.1236\n",
      "Epoch 52/100\n",
      "\u001b[1m81/81\u001b[0m \u001b[32m━━━━━━━━━━━━━━━━━━━━\u001b[0m\u001b[37m\u001b[0m \u001b[1m5s\u001b[0m 63ms/step - accuracy: 0.9995 - loss: 0.0080 - val_accuracy: 0.9611 - val_loss: 0.1279\n",
      "Epoch 53/100\n",
      "\u001b[1m81/81\u001b[0m \u001b[32m━━━━━━━━━━━━━━━━━━━━\u001b[0m\u001b[37m\u001b[0m \u001b[1m5s\u001b[0m 57ms/step - accuracy: 0.9998 - loss: 0.0057 - val_accuracy: 0.9626 - val_loss: 0.1292\n",
      "Epoch 54/100\n",
      "\u001b[1m81/81\u001b[0m \u001b[32m━━━━━━━━━━━━━━━━━━━━\u001b[0m\u001b[37m\u001b[0m \u001b[1m5s\u001b[0m 61ms/step - accuracy: 0.9997 - loss: 0.0054 - val_accuracy: 0.9595 - val_loss: 0.1371\n",
      "Epoch 55/100\n",
      "\u001b[1m81/81\u001b[0m \u001b[32m━━━━━━━━━━━━━━━━━━━━\u001b[0m\u001b[37m\u001b[0m \u001b[1m5s\u001b[0m 63ms/step - accuracy: 0.9993 - loss: 0.0062 - val_accuracy: 0.9579 - val_loss: 0.1405\n",
      "Epoch 56/100\n",
      "\u001b[1m81/81\u001b[0m \u001b[32m━━━━━━━━━━━━━━━━━━━━\u001b[0m\u001b[37m\u001b[0m \u001b[1m5s\u001b[0m 63ms/step - accuracy: 0.9999 - loss: 0.0046 - val_accuracy: 0.9595 - val_loss: 0.1349\n",
      "Epoch 57/100\n",
      "\u001b[1m81/81\u001b[0m \u001b[32m━━━━━━━━━━━━━━━━━━━━\u001b[0m\u001b[37m\u001b[0m \u001b[1m5s\u001b[0m 57ms/step - accuracy: 0.9998 - loss: 0.0046 - val_accuracy: 0.9564 - val_loss: 0.1446\n",
      "Epoch 58/100\n",
      "\u001b[1m81/81\u001b[0m \u001b[32m━━━━━━━━━━━━━━━━━━━━\u001b[0m\u001b[37m\u001b[0m \u001b[1m5s\u001b[0m 58ms/step - accuracy: 0.9996 - loss: 0.0052 - val_accuracy: 0.9595 - val_loss: 0.1438\n",
      "Epoch 59/100\n",
      "\u001b[1m81/81\u001b[0m \u001b[32m━━━━━━━━━━━━━━━━━━━━\u001b[0m\u001b[37m\u001b[0m \u001b[1m5s\u001b[0m 60ms/step - accuracy: 1.0000 - loss: 0.0038 - val_accuracy: 0.9564 - val_loss: 0.1518\n",
      "Epoch 60/100\n",
      "\u001b[1m81/81\u001b[0m \u001b[32m━━━━━━━━━━━━━━━━━━━━\u001b[0m\u001b[37m\u001b[0m \u001b[1m5s\u001b[0m 58ms/step - accuracy: 0.9999 - loss: 0.0035 - val_accuracy: 0.9564 - val_loss: 0.1507\n",
      "Epoch 61/100\n",
      "\u001b[1m81/81\u001b[0m \u001b[32m━━━━━━━━━━━━━━━━━━━━\u001b[0m\u001b[37m\u001b[0m \u001b[1m5s\u001b[0m 60ms/step - accuracy: 0.9998 - loss: 0.0033 - val_accuracy: 0.9564 - val_loss: 0.1553\n",
      "Epoch 62/100\n",
      "\u001b[1m81/81\u001b[0m \u001b[32m━━━━━━━━━━━━━━━━━━━━\u001b[0m\u001b[37m\u001b[0m \u001b[1m5s\u001b[0m 56ms/step - accuracy: 0.9999 - loss: 0.0030 - val_accuracy: 0.9579 - val_loss: 0.1535\n",
      "Epoch 63/100\n",
      "\u001b[1m81/81\u001b[0m \u001b[32m━━━━━━━━━━━━━━━━━━━━\u001b[0m\u001b[37m\u001b[0m \u001b[1m5s\u001b[0m 57ms/step - accuracy: 1.0000 - loss: 0.0028 - val_accuracy: 0.9579 - val_loss: 0.1513\n",
      "Epoch 64/100\n",
      "\u001b[1m81/81\u001b[0m \u001b[32m━━━━━━━━━━━━━━━━━━━━\u001b[0m\u001b[37m\u001b[0m \u001b[1m5s\u001b[0m 59ms/step - accuracy: 0.9996 - loss: 0.0032 - val_accuracy: 0.9548 - val_loss: 0.1601\n",
      "Epoch 65/100\n",
      "\u001b[1m81/81\u001b[0m \u001b[32m━━━━━━━━━━━━━━━━━━━━\u001b[0m\u001b[37m\u001b[0m \u001b[1m5s\u001b[0m 58ms/step - accuracy: 0.9994 - loss: 0.0033 - val_accuracy: 0.9548 - val_loss: 0.1646\n",
      "Epoch 66/100\n",
      "\u001b[1m81/81\u001b[0m \u001b[32m━━━━━━━━━━━━━━━━━━━━\u001b[0m\u001b[37m\u001b[0m \u001b[1m5s\u001b[0m 65ms/step - accuracy: 0.9988 - loss: 0.0038 - val_accuracy: 0.9548 - val_loss: 0.1696\n",
      "Epoch 67/100\n",
      "\u001b[1m81/81\u001b[0m \u001b[32m━━━━━━━━━━━━━━━━━━━━\u001b[0m\u001b[37m\u001b[0m \u001b[1m5s\u001b[0m 59ms/step - accuracy: 0.9998 - loss: 0.0024 - val_accuracy: 0.9548 - val_loss: 0.1672\n",
      "Epoch 68/100\n",
      "\u001b[1m81/81\u001b[0m \u001b[32m━━━━━━━━━━━━━━━━━━━━\u001b[0m\u001b[37m\u001b[0m \u001b[1m6s\u001b[0m 70ms/step - accuracy: 0.9996 - loss: 0.0023 - val_accuracy: 0.9533 - val_loss: 0.1754\n",
      "Epoch 69/100\n",
      "\u001b[1m81/81\u001b[0m \u001b[32m━━━━━━━━━━━━━━━━━━━━\u001b[0m\u001b[37m\u001b[0m \u001b[1m5s\u001b[0m 63ms/step - accuracy: 1.0000 - loss: 0.0021 - val_accuracy: 0.9517 - val_loss: 0.1835\n",
      "Epoch 70/100\n",
      "\u001b[1m81/81\u001b[0m \u001b[32m━━━━━━━━━━━━━━━━━━━━\u001b[0m\u001b[37m\u001b[0m \u001b[1m5s\u001b[0m 64ms/step - accuracy: 0.9994 - loss: 0.0027 - val_accuracy: 0.9533 - val_loss: 0.1770\n",
      "Epoch 71/100\n",
      "\u001b[1m81/81\u001b[0m \u001b[32m━━━━━━━━━━━━━━━━━━━━\u001b[0m\u001b[37m\u001b[0m \u001b[1m5s\u001b[0m 60ms/step - accuracy: 0.9981 - loss: 0.0035 - val_accuracy: 0.9517 - val_loss: 0.1861\n",
      "Epoch 72/100\n",
      "\u001b[1m81/81\u001b[0m \u001b[32m━━━━━━━━━━━━━━━━━━━━\u001b[0m\u001b[37m\u001b[0m \u001b[1m5s\u001b[0m 60ms/step - accuracy: 0.9988 - loss: 0.0027 - val_accuracy: 0.9517 - val_loss: 0.1801\n",
      "Epoch 73/100\n",
      "\u001b[1m81/81\u001b[0m \u001b[32m━━━━━━━━━━━━━━━━━━━━\u001b[0m\u001b[37m\u001b[0m \u001b[1m5s\u001b[0m 65ms/step - accuracy: 0.9981 - loss: 0.0033 - val_accuracy: 0.9533 - val_loss: 0.1814\n",
      "Epoch 74/100\n",
      "\u001b[1m81/81\u001b[0m \u001b[32m━━━━━━━━━━━━━━━━━━━━\u001b[0m\u001b[37m\u001b[0m \u001b[1m6s\u001b[0m 69ms/step - accuracy: 0.9998 - loss: 0.0016 - val_accuracy: 0.9548 - val_loss: 0.1825\n",
      "Epoch 75/100\n",
      "\u001b[1m81/81\u001b[0m \u001b[32m━━━━━━━━━━━━━━━━━━━━\u001b[0m\u001b[37m\u001b[0m \u001b[1m5s\u001b[0m 61ms/step - accuracy: 1.0000 - loss: 0.0017 - val_accuracy: 0.9533 - val_loss: 0.1849\n",
      "Epoch 76/100\n",
      "\u001b[1m81/81\u001b[0m \u001b[32m━━━━━━━━━━━━━━━━━━━━\u001b[0m\u001b[37m\u001b[0m \u001b[1m5s\u001b[0m 59ms/step - accuracy: 1.0000 - loss: 0.0019 - val_accuracy: 0.9517 - val_loss: 0.1940\n",
      "Epoch 77/100\n",
      "\u001b[1m81/81\u001b[0m \u001b[32m━━━━━━━━━━━━━━━━━━━━\u001b[0m\u001b[37m\u001b[0m \u001b[1m5s\u001b[0m 67ms/step - accuracy: 1.0000 - loss: 0.0014 - val_accuracy: 0.9517 - val_loss: 0.1866\n",
      "Epoch 78/100\n",
      "\u001b[1m81/81\u001b[0m \u001b[32m━━━━━━━━━━━━━━━━━━━━\u001b[0m\u001b[37m\u001b[0m \u001b[1m5s\u001b[0m 57ms/step - accuracy: 1.0000 - loss: 0.0015 - val_accuracy: 0.9533 - val_loss: 0.1878\n",
      "Epoch 79/100\n",
      "\u001b[1m81/81\u001b[0m \u001b[32m━━━━━━━━━━━━━━━━━━━━\u001b[0m\u001b[37m\u001b[0m \u001b[1m5s\u001b[0m 59ms/step - accuracy: 0.9997 - loss: 0.0025 - val_accuracy: 0.9393 - val_loss: 0.1834\n",
      "Epoch 80/100\n",
      "\u001b[1m81/81\u001b[0m \u001b[32m━━━━━━━━━━━━━━━━━━━━\u001b[0m\u001b[37m\u001b[0m \u001b[1m5s\u001b[0m 62ms/step - accuracy: 0.9680 - loss: 0.0798 - val_accuracy: 0.9579 - val_loss: 0.1241\n",
      "Epoch 81/100\n",
      "\u001b[1m81/81\u001b[0m \u001b[32m━━━━━━━━━━━━━━━━━━━━\u001b[0m\u001b[37m\u001b[0m \u001b[1m6s\u001b[0m 76ms/step - accuracy: 0.9898 - loss: 0.0325 - val_accuracy: 0.9626 - val_loss: 0.1207\n",
      "Epoch 82/100\n",
      "\u001b[1m81/81\u001b[0m \u001b[32m━━━━━━━━━━━━━━━━━━━━\u001b[0m\u001b[37m\u001b[0m \u001b[1m6s\u001b[0m 78ms/step - accuracy: 0.9900 - loss: 0.0317 - val_accuracy: 0.9657 - val_loss: 0.1088\n",
      "Epoch 83/100\n",
      "\u001b[1m81/81\u001b[0m \u001b[32m━━━━━━━━━━━━━━━━━━━━\u001b[0m\u001b[37m\u001b[0m \u001b[1m5s\u001b[0m 67ms/step - accuracy: 0.9982 - loss: 0.0118 - val_accuracy: 0.9688 - val_loss: 0.1107\n",
      "Epoch 84/100\n",
      "\u001b[1m81/81\u001b[0m \u001b[32m━━━━━━━━━━━━━━━━━━━━\u001b[0m\u001b[37m\u001b[0m \u001b[1m6s\u001b[0m 72ms/step - accuracy: 1.0000 - loss: 0.0061 - val_accuracy: 0.9688 - val_loss: 0.1099\n",
      "Epoch 85/100\n",
      "\u001b[1m81/81\u001b[0m \u001b[32m━━━━━━━━━━━━━━━━━━━━\u001b[0m\u001b[37m\u001b[0m \u001b[1m5s\u001b[0m 63ms/step - accuracy: 1.0000 - loss: 0.0057 - val_accuracy: 0.9626 - val_loss: 0.1187\n",
      "Epoch 86/100\n",
      "\u001b[1m81/81\u001b[0m \u001b[32m━━━━━━━━━━━━━━━━━━━━\u001b[0m\u001b[37m\u001b[0m \u001b[1m5s\u001b[0m 65ms/step - accuracy: 1.0000 - loss: 0.0038 - val_accuracy: 0.9626 - val_loss: 0.1219\n",
      "Epoch 87/100\n",
      "\u001b[1m81/81\u001b[0m \u001b[32m━━━━━━━━━━━━━━━━━━━━\u001b[0m\u001b[37m\u001b[0m \u001b[1m9s\u001b[0m 44ms/step - accuracy: 1.0000 - loss: 0.0032 - val_accuracy: 0.9611 - val_loss: 0.1196\n",
      "Epoch 88/100\n",
      "\u001b[1m81/81\u001b[0m \u001b[32m━━━━━━━━━━━━━━━━━━━━\u001b[0m\u001b[37m\u001b[0m \u001b[1m7s\u001b[0m 84ms/step - accuracy: 1.0000 - loss: 0.0023 - val_accuracy: 0.9626 - val_loss: 0.1180\n",
      "Epoch 89/100\n",
      "\u001b[1m81/81\u001b[0m \u001b[32m━━━━━━━━━━━━━━━━━━━━\u001b[0m\u001b[37m\u001b[0m \u001b[1m5s\u001b[0m 65ms/step - accuracy: 1.0000 - loss: 0.0026 - val_accuracy: 0.9579 - val_loss: 0.1405\n",
      "Epoch 90/100\n",
      "\u001b[1m81/81\u001b[0m \u001b[32m━━━━━━━━━━━━━━━━━━━━\u001b[0m\u001b[37m\u001b[0m \u001b[1m6s\u001b[0m 75ms/step - accuracy: 1.0000 - loss: 0.0020 - val_accuracy: 0.9579 - val_loss: 0.1425\n",
      "Epoch 91/100\n",
      "\u001b[1m81/81\u001b[0m \u001b[32m━━━━━━━━━━━━━━━━━━━━\u001b[0m\u001b[37m\u001b[0m \u001b[1m6s\u001b[0m 74ms/step - accuracy: 1.0000 - loss: 0.0016 - val_accuracy: 0.9579 - val_loss: 0.1455\n",
      "Epoch 92/100\n",
      "\u001b[1m81/81\u001b[0m \u001b[32m━━━━━━━━━━━━━━━━━━━━\u001b[0m\u001b[37m\u001b[0m \u001b[1m7s\u001b[0m 84ms/step - accuracy: 1.0000 - loss: 0.0017 - val_accuracy: 0.9595 - val_loss: 0.1461\n",
      "Epoch 93/100\n",
      "\u001b[1m81/81\u001b[0m \u001b[32m━━━━━━━━━━━━━━━━━━━━\u001b[0m\u001b[37m\u001b[0m \u001b[1m7s\u001b[0m 85ms/step - accuracy: 1.0000 - loss: 0.0014 - val_accuracy: 0.9579 - val_loss: 0.1501\n",
      "Epoch 94/100\n",
      "\u001b[1m81/81\u001b[0m \u001b[32m━━━━━━━━━━━━━━━━━━━━\u001b[0m\u001b[37m\u001b[0m \u001b[1m6s\u001b[0m 74ms/step - accuracy: 1.0000 - loss: 0.0012 - val_accuracy: 0.9595 - val_loss: 0.1498\n",
      "Epoch 95/100\n",
      "\u001b[1m81/81\u001b[0m \u001b[32m━━━━━━━━━━━━━━━━━━━━\u001b[0m\u001b[37m\u001b[0m \u001b[1m6s\u001b[0m 74ms/step - accuracy: 1.0000 - loss: 0.0012 - val_accuracy: 0.9579 - val_loss: 0.1570\n",
      "Epoch 96/100\n",
      "\u001b[1m81/81\u001b[0m \u001b[32m━━━━━━━━━━━━━━━━━━━━\u001b[0m\u001b[37m\u001b[0m \u001b[1m6s\u001b[0m 76ms/step - accuracy: 1.0000 - loss: 0.0013 - val_accuracy: 0.9595 - val_loss: 0.1541\n",
      "Epoch 97/100\n",
      "\u001b[1m81/81\u001b[0m \u001b[32m━━━━━━━━━━━━━━━━━━━━\u001b[0m\u001b[37m\u001b[0m \u001b[1m6s\u001b[0m 73ms/step - accuracy: 1.0000 - loss: 0.0012 - val_accuracy: 0.9611 - val_loss: 0.1566\n",
      "Epoch 98/100\n",
      "\u001b[1m81/81\u001b[0m \u001b[32m━━━━━━━━━━━━━━━━━━━━\u001b[0m\u001b[37m\u001b[0m \u001b[1m6s\u001b[0m 72ms/step - accuracy: 1.0000 - loss: 0.0013 - val_accuracy: 0.9611 - val_loss: 0.1559\n",
      "Epoch 99/100\n",
      "\u001b[1m81/81\u001b[0m \u001b[32m━━━━━━━━━━━━━━━━━━━━\u001b[0m\u001b[37m\u001b[0m \u001b[1m6s\u001b[0m 69ms/step - accuracy: 1.0000 - loss: 9.6974e-04 - val_accuracy: 0.9595 - val_loss: 0.1630\n",
      "Epoch 100/100\n",
      "\u001b[1m81/81\u001b[0m \u001b[32m━━━━━━━━━━━━━━━━━━━━\u001b[0m\u001b[37m\u001b[0m \u001b[1m5s\u001b[0m 67ms/step - accuracy: 1.0000 - loss: 8.1812e-04 - val_accuracy: 0.9564 - val_loss: 0.1673\n"
     ]
    }
   ],
   "source": [
    "print('Training model...')\n",
    "r = model.fit(\n",
    "  X_train,\n",
    "  y_train,\n",
    "  batch_size=BATCH_SIZE,\n",
    "  epochs=EPOCHS,\n",
    "  validation_split=VALIDATION_SPLIT\n",
    ")"
   ]
  },
  {
   "cell_type": "code",
   "execution_count": 371,
   "id": "a3455613",
   "metadata": {},
   "outputs": [
    {
     "data": {
      "image/png": "[encoded data removed]",
      "text/plain": [
       "<Figure size 1500x500 with 2 Axes>"
      ]
     },
     "metadata": {},
     "output_type": "display_data"
    }
   ],
   "source": [
    "acc = r.history['accuracy']\n",
    "val_acc = r.history['val_accuracy']\n",
    "loss = r.history['loss']\n",
    "val_loss = r.history['val_loss']\n",
    "epochs_range = range(1, len(r.epoch) + 1)\n",
    "\n",
    "plt.figure(figsize=(15,5))\n",
    "\n",
    "plt.subplot(1, 2, 1)\n",
    "plt.plot(epochs_range, acc, label='Train Set')\n",
    "plt.plot(epochs_range, val_acc, label='Val Set')\n",
    "plt.legend(loc=\"best\")\n",
    "plt.xlabel('Epochs')\n",
    "plt.ylabel('Accuracy')\n",
    "plt.title('LSTM Model Accuracy')\n",
    "\n",
    "plt.subplot(1, 2, 2)\n",
    "plt.plot(epochs_range, loss, label='Train Set')\n",
    "plt.plot(epochs_range, val_loss, label='Val Set')\n",
    "plt.legend(loc=\"best\")\n",
    "plt.xlabel('Epochs')\n",
    "plt.ylabel('Loss')\n",
    "plt.title('LSTM Model Loss')\n",
    "\n",
    "plt.tight_layout()\n",
    "plt.show()"
   ]
  },
  {
   "cell_type": "code",
   "execution_count": 439,
   "id": "85f0b78b",
   "metadata": {},
   "outputs": [
    {
     "name": "stdout",
     "output_type": "stream",
     "text": [
      "\u001b[1m101/101\u001b[0m \u001b[32m━━━━━━━━━━━━━━━━━━━━\u001b[0m\u001b[37m\u001b[0m \u001b[1m2s\u001b[0m 16ms/step - accuracy: 0.9989 - loss: 0.0052\n",
      "Accuracy of the model on Training Data is -  99.12691116333008\n",
      "\u001b[1m26/26\u001b[0m \u001b[32m━━━━━━━━━━━━━━━━━━━━\u001b[0m\u001b[37m\u001b[0m \u001b[1m0s\u001b[0m 17ms/step - accuracy: 0.9630 - loss: 0.1822\n",
      "Accuracy of the model on Testing Data is -  96.88279032707214\n"
     ]
    }
   ],
   "source": [
    "print(\"Accuracy of the model on Training Data is - \" , model.evaluate(X_train,y_train)[1]*100)\n",
    "print(\"Accuracy of the model on Testing Data is - \" , model.evaluate(X_test,y_test)[1]*100)"
   ]
  },
  {
   "cell_type": "code",
   "execution_count": 373,
   "id": "c8fa8998",
   "metadata": {},
   "outputs": [
    {
     "name": "stdout",
     "output_type": "stream",
     "text": [
      "\u001b[1m26/26\u001b[0m \u001b[32m━━━━━━━━━━━━━━━━━━━━\u001b[0m\u001b[37m\u001b[0m \u001b[1m2s\u001b[0m 41ms/step\n"
     ]
    },
    {
     "data": {
      "text/plain": [
       "array([[8.43477668e-04],\n",
       "       [7.40039395e-04],\n",
       "       [1.13901035e-04],\n",
       "       [9.99958813e-01],\n",
       "       [9.99961615e-01]], dtype=float32)"
      ]
     },
     "execution_count": 373,
     "metadata": {},
     "output_type": "execute_result"
    }
   ],
   "source": [
    "pred = model.predict(X_test)\n",
    "pred[:5]"
   ]
  },
  {
   "cell_type": "code",
   "execution_count": 374,
   "id": "1490c963",
   "metadata": {},
   "outputs": [
    {
     "data": {
      "image/png": "[encoded data removed]",
      "text/plain": [
       "<Figure size 600x400 with 2 Axes>"
      ]
     },
     "metadata": {},
     "output_type": "display_data"
    }
   ],
   "source": [
    "cm = confusion_matrix(y_test,pred.round())\n",
    "cm = pd.DataFrame(cm , index = ['TRUE','FAKE'] , columns = ['TRUE','FAKE'])\n",
    "plt.figure(figsize = (6,4))\n",
    "sns.heatmap(cm,cmap= \"Blues\", linecolor = 'black' , linewidth = 1 , annot = True, fmt='' , xticklabels = ['TRUE','FAKE'] , yticklabels = ['TRUE','FAKE'])\n",
    "plt.ylabel('Actual')\n",
    "plt.xlabel('Predicted')\n",
    "plt.show()"
   ]
  },
  {
   "cell_type": "code",
   "execution_count": 375,
   "id": "1bd661dd",
   "metadata": {},
   "outputs": [
    {
     "name": "stdout",
     "output_type": "stream",
     "text": [
      "              precision    recall  f1-score   support\n",
      "\n",
      "           0       0.97      0.97      0.97       428\n",
      "           1       0.96      0.97      0.97       374\n",
      "\n",
      "    accuracy                           0.97       802\n",
      "   macro avg       0.97      0.97      0.97       802\n",
      "weighted avg       0.97      0.97      0.97       802\n",
      "\n"
     ]
    }
   ],
   "source": [
    "print(classification_report(y_test,pred.round()))"
   ]
  },
  {
   "cell_type": "code",
   "execution_count": 376,
   "id": "b7f25b64",
   "metadata": {},
   "outputs": [
    {
     "name": "stdout",
     "output_type": "stream",
     "text": [
      "\u001b[1m26/26\u001b[0m \u001b[32m━━━━━━━━━━━━━━━━━━━━\u001b[0m\u001b[37m\u001b[0m \u001b[1m0s\u001b[0m 13ms/step\n"
     ]
    }
   ],
   "source": [
    "y_pred = model.predict(X_test).ravel()"
   ]
  },
  {
   "cell_type": "code",
   "execution_count": 377,
   "id": "5959130d",
   "metadata": {},
   "outputs": [
    {
     "data": {
      "image/png": "[encoded data removed]",
      "text/plain": [
       "<Figure size 1200x800 with 1 Axes>"
      ]
     },
     "metadata": {},
     "output_type": "display_data"
    }
   ],
   "source": [
    "from sklearn.metrics import roc_curve, roc_auc_score\n",
    "\n",
    "# Function to plot ROC-AUC curve\n",
    "def roc_auc_plot(y_true, y_proba, label=' ', l='-', lw=1.0):\n",
    "    fpr, tpr, _ = roc_curve(y_true, y_proba)\n",
    "    ax.plot(fpr, tpr, linestyle=l, linewidth=lw,\n",
    "            label=\"%s (area=%.3f)\" % (label, roc_auc_score(y_true, y_proba)))\n",
    "\n",
    "# Clear previous figures and plots\n",
    "plt.clf()\n",
    "plt.close()\n",
    "\n",
    "# Create a new figure and axis\n",
    "f, ax = plt.subplots(figsize=(12, 8))\n",
    "\n",
    "# Plot the ROC curve for the model\n",
    "roc_auc_plot(y_test, y_pred, label='LSTM', l='-')\n",
    "\n",
    "# Plot a diagonal no-skill classifier line\n",
    "ax.plot([0, 1], [0, 1], color='k', linewidth=0.8, linestyle='--')\n",
    "\n",
    "# Customize the plot\n",
    "ax.legend(loc=\"lower right\")\n",
    "ax.set_xlabel('False Positive Rate')\n",
    "ax.set_ylabel('True Positive Rate')\n",
    "ax.set_xlim([0, 1])\n",
    "ax.set_ylim([0, 1])\n",
    "ax.set_title('Receiver Operator Characteristic Curves')\n",
    "\n",
    "# Remove excess borders\n",
    "sns.despine()\n",
    "\n",
    "# Show the plot\n",
    "plt.show()"
   ]
  },
  {
   "cell_type": "code",
   "execution_count": 378,
   "id": "1e9bfa52",
   "metadata": {},
   "outputs": [],
   "source": [
    "testSent = [\"\"\"\n",
    "Image copyright Getty Images\n",
    "On Sunday morning, Donald Trump went off on a Twitter tirade against a member of his own party.\n",
    "This, in itself, isn't exactly huge news. It's far from the first time the president has turned his rhetorical cannons on his own ranks.\n",
    "This time, however, his attacks were particularly biting and personal. He essentially called Tennessee Senator Bob Corker, the chair of the powerful Senate Foreign Relations Committee, a coward for not running for re-election.\n",
    "He said Mr Corker \"begged\" for the president's endorsement, which he refused to give. He wrongly claimed that Mr Corker's support of the Iranian nuclear agreement was his only political accomplishment.\n",
    "Unlike some of his colleagues, Mr Corker - free from having to worry about his immediate political future - didn't hold his tongue.\n",
    "Skip Twitter post by @SenBobCorker It's a shame the White House has become an adult day care center. Someone obviously missed their shift this morning. — Senator Bob Corker (@SenBobCorker) October 8, 2017 Report\n",
    "That wasn't the end of it, though. He then spoke with the New York Times and really let the president have it. Here are four choice quotes from the Tennessee senator's interview with the Times and why they are particularly damning.\n",
    "\"I don't know why the president tweets out things that are not true. You know he does it, everyone knows he does it, but he does.\"\n",
    "You can't really sugarcoat this one. Mr Corker is flat-out saying the president is a liar - and everyone knows it.\n",
    "The senator, in particular, is challenging Mr Trump's insistence that he unsuccessfully pleaded for his endorsement, but the accusation is much broader.\n",
    "Mr Corker and the president used to be something akin to allies. The Tennessean was on Mr Trump's short list for vice-president and secretary of state.\n",
    "Image copyright Getty Images Image caption Bob Corker at Trump campaign rally in July 2016\n",
    "Those days are seemingly very much over now - and it's not like Mr Corker is going anywhere anytime soon. Although he's not running for re-election, he'll be in the Senate, chairing a powerful committee, until January 2019.\n",
    "The president's margin for success in that chamber is razor-thin. If Democrats can continue to stand together in opposition, he can afford to lose only two votes out of 52 Republican senators. That's why healthcare reform collapsed in July - and it could be bad news for tax efforts.\n",
    "From here on out, Mr Corker isn't going to do the president any favours.\n",
    "\"Look, except for a few people, the vast majority of our caucus understands what we're dealing with here.\"\n",
    "Frustration in Congress has been growing over what Republicans feel has been the president's inability to focus on advancing their agenda. Getting a sharply divided party to come together on plans to repeal Obamacare, reform taxes or boost infrastructure spending is challenging enough. Doing so when the president stirs up unrelated controversies on a seemingly daily basis makes things all the harder.\n",
    "One of the president's gifts has been his ability to shake off negative stories by quickly moving on to a different subject. That worked brilliantly during his presidential campaign, but it's less effective during the legislative slow grind.\n",
    "Image copyright Getty Images Image caption Corker at the confirmation hearing for Secretary of State Rex Tillerson\n",
    "For months, Republicans in Congress have been grumbling about this in the background and among themselves. Occasionally, someone like Mr McConnell will lament that the president doesn't understand how the Senate works.\n",
    "Mr Corker has now stated it loud and clear. And, what's more, he says almost everyone agrees with him. They've kept silent until now because they still hope to pass conservative legislation that the president can sign or fear Mr Trump's legions will back a primary challenge next year or stay home during the general election.\n",
    "If that calculus ever changes - if it becomes riskier to stay silent than speak out - Mr Trump will be in real trouble.\n",
    "\"A lot of people think that there is some kind of 'good cop, bad cop' act underway, but that's just not true.\"\n",
    "Time and again, Mr Trump has appeared to undercut Secretary of State Rex Tillerson and others in his administration who are attempting to use soft diplomacy to deal with a range of international crises.\n",
    "The war against the Taliban in Afghanistan, Iran's compliance with the multinational nuclear agreement, the ongoing dispute between Qatar and its Persian Gulf neighbours, the unrest in Venezuela and, most recently, North Korea's continued ballistic missile tests have all been the target of the president's offhand remarks and Twitter invective.\n",
    "Some administration defenders have said this is all a part of Mr Trump's strategy - an updated version of the Nixon-era \"madman theory\", in which the president forces adversaries to give way because they fear an unpredictable US leader's actions.\n",
    "Mr Corker isn't buying it. There's no strategy, he says, just the possibility of chaos - which he hopes Mr Trump's senior advisers will be able to avoid.\n",
    "\"I know for a fact that every single day at the White House, it's a situation of trying to contain him.\"\n",
    "There's now a growing collection of John Kelly face-palm photos that serve as a testament to the chief-of-staff's reported frustration at dealing with the president.\n",
    "Mr Trump goes off-script to praise torch-bearing white nationalists at a rally in Charlottesville, and Mr Kelly is captured closing his eyes and rubbing the arch of his nose, as if attempting to stave off a migraine.\n",
    "Image copyright Reuters Image caption White House Chief of Staff John Kelly looks on as US President Donald Trump speaks at a campaign rally\n",
    "The president calls North Korean leaders \"criminals\" in a speech to the United Nations, and Mr Kelly straight-up buries his face in his hands.\n",
    "The White House communications team is often left scrambling to try to explain or reframe an indelicate presidential \"joke\" or remark that directly contradicts what was until then the official administration line.\n",
    "Even though Mr Kelly has brought some discipline to the West Wing staff, the president still marches to the beat of his own drum - and continues to have unfettered access to his phone's Twitter app.\n",
    "Bob Corker is only the latest person - politician, journalist, sports star or celebrity - to feel the mercurial president's uncontainable ire.\n",
    "\"\"\",\n",
    "\"\"\"\n",
    "By Aaron Kesel\n",
    "As former White House chief of staff and current Chicago Mayor Rahm Emanuel has said: “You never let a serious crisis go to waste.” While everyone was worried about the hurricanes, U.S. President Donald Trump signed away the Fourth Amendment buried in a new bill. He set a precedent by empowering the police state to allow warrantless searches in parts of VA, MD and D.C. near the Metro train system.\n",
    "The government can now openly enter and search private property without a warrant in parts of Virginia, Maryland and D.C.\n",
    "The House Joint Resolution 76 was signed into law on Tuesday, Aug. 22, by President Trump. The text is rather boring, starting off with: “Granting the consent and approval of Congress for the Commonwealth of Virginia, the State of Maryland, and the District of Columbia to enter into a compact relating to the establishment of the Washington Metrorail Safety Commission.”\n",
    "CNN explained, “This law lets Virginia, Maryland and the District of Columbia form a new panel called the Washington Metrorail Safety Commission to oversee the safety of the D.C.-area public transportation Metro train system.”\n",
    "The new safety commission will take over from the current Federal Transit Agency (FTA), which has been in charge of safety oversight for the Washington Metropolitan Area Interstate Compact (WMATA) since October 2015.\n",
    "“We’ll set this up and get the FTA out of Metro. They are happy to get out, and we’re happy to get them out,” Metro Board of Directors Chair Jack Evans told Bloomberg BNA. “I’m glad we got this thing. If nothing else, we’ll get our money.”\n",
    "However, buried within the bill’s text is a daunting “one major red flag” that would give the newly formed commission “the authority to enter property near the Metro Rail System ‘without limitation’ and without a warrant, for the purpose of ‘making inspections, investigations, examinations, and testing,” The Free Thought Project reported.\n",
    "The legislation reads:\n",
    "In performing its duties, the Commission, through its Board or designated employees or agents, may: Enter upon the WMATA Rail System and, upon reasonable notice and a finding by the chief executive officer that a need exists, upon any lands, waters, and premises adjacent to the WMATA Rail System, including, without limitation, property owned or occupied by the federal government, for the purpose of making inspections, investigations, examinations, and testing as the Commission may deem necessary to carry out the purposes of this MSC Compact, and such entry shall not be deemed a trespass.\n",
    "Only five Congressman voted against the bill according to U.S. Rep Justin Amash (R-Mich.) while three hundred ninety-nine gave their approval, and 29 didn’t bother to vote at all. Apparently, our elected officials can’t be bothered to stand up for the rights of we the people or the Constitution they swore to protect. After all, the Fourth Amendment doesn’t exist, which protects Americans from unreasonable searches and seizures or anything. As Amash pointed out, the government will now be able to kick in the doors of any private property surrounding the border of the DC Metro Rail System without needing a warrant based on any probable cause.\n",
    "Only 5 of us voted against bill allowing govt to enter/search private property in parts of VA, MD & DC w/o warrant. https://t.co/SVhTWqbPaB — Justin Amash (@justinamash) July 18, 2017 FREE Stormproof, Waterproof Survival Match Kit (Ad)\n",
    "A scary prospect indeed, as Rachel Blevins wrote for The Free Thought Project, “While it may only affect the Washington, D.C., metro area now, it could be laying the blueprint for future legislation across the country.”\n",
    "Aaron Kesel writes for Activist Post and is Director of Content for Coinivore. Follow Aaron at Twitter and Steemit.\n",
    "This article is Creative Commons and can be republished in full with attribution. Like Activist Post on Facebook, subscribe on YouTube, follow on Twitter and at Steemit.\n",
    "Image Credit: The Anti-Media\n",
    "\"\"\"\n",
    "]\n"
   ]
  },
  {
   "cell_type": "code",
   "execution_count": 379,
   "id": "f9cf08f8",
   "metadata": {},
   "outputs": [],
   "source": [
    "def cleanText(txt):\n",
    "    txt = txt.lower()\n",
    "    txt = ' '.join([word for word in txt.split() if word not in (stop)])\n",
    "    txt = re.sub('[^a-z]',' ',txt)\n",
    "    return txt  \n"
   ]
  },
  {
   "cell_type": "code",
   "execution_count": 380,
   "id": "68c66299",
   "metadata": {},
   "outputs": [],
   "source": [
    "def predict_text(lst_text):\n",
    "    test = tokenizer.texts_to_sequences(lst_text)\n",
    "    testX = pad_sequences(test, maxlen=MAX_SEQUENCE_LENGTH)\n",
    "    df_test = pd.DataFrame(lst_text, columns = ['test_sent'])\n",
    "\n",
    "    prediction = model.predict(testX)\n",
    "    df_test['prediction']=prediction\n",
    "    df_test[\"test_sent\"] = df_test[\"test_sent\"].apply(cleanText)\n",
    "    df_test['prediction']=df_test['prediction'].apply(lambda x: \"Fake\" if x>=0.5 else \"Real\")\n",
    "    return df_test"
   ]
  },
  {
   "cell_type": "code",
   "execution_count": 381,
   "id": "177ad66f",
   "metadata": {},
   "outputs": [
    {
     "name": "stdout",
     "output_type": "stream",
     "text": [
      "\u001b[1m1/1\u001b[0m \u001b[32m━━━━━━━━━━━━━━━━━━━━\u001b[0m\u001b[37m\u001b[0m \u001b[1m0s\u001b[0m 65ms/step\n"
     ]
    },
    {
     "data": {
      "text/html": [
       "<div>\n",
       "<style scoped>\n",
       "    .dataframe tbody tr th:only-of-type {\n",
       "        vertical-align: middle;\n",
       "    }\n",
       "\n",
       "    .dataframe tbody tr th {\n",
       "        vertical-align: top;\n",
       "    }\n",
       "\n",
       "    .dataframe thead th {\n",
       "        text-align: right;\n",
       "    }\n",
       "</style>\n",
       "<table border=\"1\" class=\"dataframe\">\n",
       "  <thead>\n",
       "    <tr style=\"text-align: right;\">\n",
       "      <th></th>\n",
       "      <th>test_sent</th>\n",
       "      <th>prediction</th>\n",
       "    </tr>\n",
       "  </thead>\n",
       "  <tbody>\n",
       "    <tr>\n",
       "      <th>0</th>\n",
       "      <td>image copyright getty images sunday morning  d...</td>\n",
       "      <td>Fake</td>\n",
       "    </tr>\n",
       "    <tr>\n",
       "      <th>1</th>\n",
       "      <td>aaron kesel former white house chief staff cur...</td>\n",
       "      <td>Real</td>\n",
       "    </tr>\n",
       "  </tbody>\n",
       "</table>\n",
       "</div>"
      ],
      "text/plain": [
       "                                           test_sent prediction\n",
       "0  image copyright getty images sunday morning  d...       Fake\n",
       "1  aaron kesel former white house chief staff cur...       Real"
      ]
     },
     "execution_count": 381,
     "metadata": {},
     "output_type": "execute_result"
    }
   ],
   "source": [
    "df_testsent = predict_text(testSent)\n",
    "df_testsent"
   ]
  },
  {
   "cell_type": "code",
   "execution_count": null,
   "id": "1b670393-caf5-4372-9e39-16b544f56d7a",
   "metadata": {},
   "outputs": [],
   "source": []
  }
 ],
 "metadata": {
  "kernelspec": {
   "display_name": "Python 3 (ipykernel)",
   "language": "python",
   "name": "python3"
  },
  "language_info": {
   "codemirror_mode": {
    "name": "ipython",
    "version": 3
   },
   "file_extension": ".py",
   "mimetype": "text/x-python",
   "name": "python",
   "nbconvert_exporter": "python",
   "pygments_lexer": "ipython3",
   "version": "3.11.9"
  }
 },
 "nbformat": 4,
 "nbformat_minor": 5
}
